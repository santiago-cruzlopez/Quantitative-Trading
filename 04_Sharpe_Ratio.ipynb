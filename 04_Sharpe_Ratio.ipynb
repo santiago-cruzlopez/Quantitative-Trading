{
  "nbformat": 4,
  "nbformat_minor": 0,
  "metadata": {
    "colab": {
      "provenance": []
    },
    "kernelspec": {
      "name": "python3",
      "display_name": "Python 3"
    },
    "language_info": {
      "name": "python"
    }
  },
  "cells": [
    {
      "cell_type": "markdown",
      "source": [
        "# What Is the Sharpe Ratio?\n",
        "The Sharpe ratio compares the return of an investment with its risk. It's a mathematical expression of the insight that excess returns over a period of time may signify more volatility and risk, rather than investing skill.\n",
        "\n",
        "$$ SharpeRatio = \\frac{R_{p}-R_{f}}{\\sigma_{p}} $$\n",
        "\n",
        "Where:\n",
        "* Rp = Return of Portfolio\n",
        "* Rf = Risk-free rate\n",
        "* Op = Standard Deviation of the portfolio's excess returns\n",
        "\n",
        "https://www.investopedia.com/terms/s/sharperatio.asp#:~:text=To%20calculate%20the%20Sharpe%20ratio%2C%20investors%20can%20subtract%20the%20risk,deviation%20(the%20asset's%20volatility.)"
      ],
      "metadata": {
        "id": "qtVPihDIzDdR"
      }
    },
    {
      "cell_type": "code",
      "source": [
        "pip install yfinance"
      ],
      "metadata": {
        "colab": {
          "base_uri": "https://localhost:8080/"
        },
        "id": "b12-qMCUSQoC",
        "outputId": "d85cef18-56b2-4b7a-bc0a-34ea0166d1c4"
      },
      "execution_count": 4,
      "outputs": [
        {
          "output_type": "stream",
          "name": "stdout",
          "text": [
            "Requirement already satisfied: yfinance in /usr/local/lib/python3.11/dist-packages (0.2.52)\n",
            "Requirement already satisfied: pandas>=1.3.0 in /usr/local/lib/python3.11/dist-packages (from yfinance) (2.2.2)\n",
            "Requirement already satisfied: numpy>=1.16.5 in /usr/local/lib/python3.11/dist-packages (from yfinance) (1.26.4)\n",
            "Requirement already satisfied: requests>=2.31 in /usr/local/lib/python3.11/dist-packages (from yfinance) (2.32.3)\n",
            "Requirement already satisfied: multitasking>=0.0.7 in /usr/local/lib/python3.11/dist-packages (from yfinance) (0.0.11)\n",
            "Requirement already satisfied: lxml>=4.9.1 in /usr/local/lib/python3.11/dist-packages (from yfinance) (5.3.0)\n",
            "Requirement already satisfied: platformdirs>=2.0.0 in /usr/local/lib/python3.11/dist-packages (from yfinance) (4.3.6)\n",
            "Requirement already satisfied: pytz>=2022.5 in /usr/local/lib/python3.11/dist-packages (from yfinance) (2024.2)\n",
            "Requirement already satisfied: frozendict>=2.3.4 in /usr/local/lib/python3.11/dist-packages (from yfinance) (2.4.6)\n",
            "Requirement already satisfied: peewee>=3.16.2 in /usr/local/lib/python3.11/dist-packages (from yfinance) (3.17.8)\n",
            "Requirement already satisfied: beautifulsoup4>=4.11.1 in /usr/local/lib/python3.11/dist-packages (from yfinance) (4.12.3)\n",
            "Requirement already satisfied: html5lib>=1.1 in /usr/local/lib/python3.11/dist-packages (from yfinance) (1.1)\n",
            "Requirement already satisfied: soupsieve>1.2 in /usr/local/lib/python3.11/dist-packages (from beautifulsoup4>=4.11.1->yfinance) (2.6)\n",
            "Requirement already satisfied: six>=1.9 in /usr/local/lib/python3.11/dist-packages (from html5lib>=1.1->yfinance) (1.17.0)\n",
            "Requirement already satisfied: webencodings in /usr/local/lib/python3.11/dist-packages (from html5lib>=1.1->yfinance) (0.5.1)\n",
            "Requirement already satisfied: python-dateutil>=2.8.2 in /usr/local/lib/python3.11/dist-packages (from pandas>=1.3.0->yfinance) (2.8.2)\n",
            "Requirement already satisfied: tzdata>=2022.7 in /usr/local/lib/python3.11/dist-packages (from pandas>=1.3.0->yfinance) (2025.1)\n",
            "Requirement already satisfied: charset-normalizer<4,>=2 in /usr/local/lib/python3.11/dist-packages (from requests>=2.31->yfinance) (3.4.1)\n",
            "Requirement already satisfied: idna<4,>=2.5 in /usr/local/lib/python3.11/dist-packages (from requests>=2.31->yfinance) (3.10)\n",
            "Requirement already satisfied: urllib3<3,>=1.21.1 in /usr/local/lib/python3.11/dist-packages (from requests>=2.31->yfinance) (2.3.0)\n",
            "Requirement already satisfied: certifi>=2017.4.17 in /usr/local/lib/python3.11/dist-packages (from requests>=2.31->yfinance) (2024.12.14)\n"
          ]
        }
      ]
    },
    {
      "cell_type": "code",
      "execution_count": 1,
      "metadata": {
        "id": "gudm_I8By_M7"
      },
      "outputs": [],
      "source": [
        "import numpy as np\n",
        "import pandas as pd\n",
        "import yfinance as yf\n",
        "import matplotlib.pyplot as plt"
      ]
    },
    {
      "cell_type": "code",
      "source": [
        "rfr = 0.03 #Risk-Free rate"
      ],
      "metadata": {
        "id": "g0E4dQySRh6j"
      },
      "execution_count": 2,
      "outputs": []
    },
    {
      "cell_type": "code",
      "source": [
        "russell = yf.Ticker('IWM') #iShares Russell 200 ETF\n",
        "data_russell = russell.history(interval='1d', start='2016-01-01', end='2025-01-25')\n",
        "print(data_russell  )"
      ],
      "metadata": {
        "colab": {
          "base_uri": "https://localhost:8080/"
        },
        "id": "hkc_J-Y-RpZg",
        "outputId": "8aeb0594-e0c7-4d6d-ec14-fae4df2b157b"
      },
      "execution_count": 7,
      "outputs": [
        {
          "output_type": "stream",
          "name": "stdout",
          "text": [
            "                                 Open        High         Low       Close  \\\n",
            "Date                                                                        \n",
            "2016-01-04 00:00:00-05:00   98.255547   98.450975   96.896440   97.722565   \n",
            "2016-01-05 00:00:00-05:00   98.077893   98.228903   97.313949   97.935760   \n",
            "2016-01-06 00:00:00-05:00   96.558898   97.358375   95.937086   96.443420   \n",
            "2016-01-07 00:00:00-05:00   94.800041   95.492919   93.707422   93.867317   \n",
            "2016-01-08 00:00:00-05:00   94.044970   94.595715   92.081814   92.250587   \n",
            "...                               ...         ...         ...         ...   \n",
            "2025-01-17 00:00:00-05:00  226.929993  226.970001  224.669998  225.460007   \n",
            "2025-01-21 00:00:00-05:00  227.520004  229.889999  226.990005  229.789993   \n",
            "2025-01-22 00:00:00-05:00  229.350006  229.850006  227.830002  228.289993   \n",
            "2025-01-23 00:00:00-05:00  226.929993  229.350006  226.550003  229.330002   \n",
            "2025-01-24 00:00:00-05:00  228.820007  230.229996  228.039993  228.690002   \n",
            "\n",
            "                             Volume  Dividends  Stock Splits  Capital Gains  \n",
            "Date                                                                         \n",
            "2016-01-04 00:00:00-05:00  66665900        0.0           0.0            0.0  \n",
            "2016-01-05 00:00:00-05:00  28253300        0.0           0.0            0.0  \n",
            "2016-01-06 00:00:00-05:00  35569200        0.0           0.0            0.0  \n",
            "2016-01-07 00:00:00-05:00  52482000        0.0           0.0            0.0  \n",
            "2016-01-08 00:00:00-05:00  60299300        0.0           0.0            0.0  \n",
            "...                             ...        ...           ...            ...  \n",
            "2025-01-17 00:00:00-05:00  26754900        0.0           0.0            0.0  \n",
            "2025-01-21 00:00:00-05:00  26086300        0.0           0.0            0.0  \n",
            "2025-01-22 00:00:00-05:00  21307300        0.0           0.0            0.0  \n",
            "2025-01-23 00:00:00-05:00  20850700        0.0           0.0            0.0  \n",
            "2025-01-24 00:00:00-05:00  19061300        0.0           0.0            0.0  \n",
            "\n",
            "[2279 rows x 8 columns]\n"
          ]
        }
      ]
    },
    {
      "cell_type": "code",
      "source": [
        "#The returns are estimated as the log difference from the closing price:\n",
        "russell_close = data_russell['Close']\n",
        "russell_returns = np.log(russell_close).diff()\n",
        "russell_returns = russell_returns.dropna()\n",
        "print(russell_returns)"
      ],
      "metadata": {
        "colab": {
          "base_uri": "https://localhost:8080/"
        },
        "id": "EldERJjnSK07",
        "outputId": "be2a11a1-5364-4fec-a44a-195249ea7b07"
      },
      "execution_count": 9,
      "outputs": [
        {
          "output_type": "stream",
          "name": "stdout",
          "text": [
            "Date\n",
            "2016-01-05 00:00:00-05:00    0.002179\n",
            "2016-01-06 00:00:00-05:00   -0.015355\n",
            "2016-01-07 00:00:00-05:00   -0.027074\n",
            "2016-01-08 00:00:00-05:00   -0.017374\n",
            "2016-01-11 00:00:00-05:00   -0.004342\n",
            "                               ...   \n",
            "2025-01-17 00:00:00-05:00    0.004312\n",
            "2025-01-21 00:00:00-05:00    0.019023\n",
            "2025-01-22 00:00:00-05:00   -0.006549\n",
            "2025-01-23 00:00:00-05:00    0.004545\n",
            "2025-01-24 00:00:00-05:00   -0.002795\n",
            "Name: Close, Length: 2278, dtype: float64\n"
          ]
        }
      ]
    },
    {
      "cell_type": "code",
      "source": [
        "russell_mean_returns = np.mean(russell_returns) *252\n",
        "russell_std_returns = np.std(russell_returns)*np.sqrt(252)\n",
        "print(f\"russell_mean_returns:\" ,russell_mean_returns)\n",
        "print(f\"russell_std_returns:\" ,russell_std_returns)"
      ],
      "metadata": {
        "colab": {
          "base_uri": "https://localhost:8080/"
        },
        "id": "qH9CLYMCTZIJ",
        "outputId": "bf769ce7-af42-4615-8c33-77baeb896b4c"
      },
      "execution_count": 11,
      "outputs": [
        {
          "output_type": "stream",
          "name": "stdout",
          "text": [
            "russell_mean_returns: 0.09405583550079015\n",
            "russell_std_returns: 0.23134943493997906\n"
          ]
        }
      ]
    },
    {
      "cell_type": "code",
      "source": [
        "#Calculate the Sharpe Ratio\n",
        "sharpe_ratio = (russell_mean_returns - rfr) / russell_std_returns\n",
        "print(f\"sharpe_ratio:\" ,sharpe_ratio)"
      ],
      "metadata": {
        "colab": {
          "base_uri": "https://localhost:8080/"
        },
        "id": "Wcf4EkSMVmQs",
        "outputId": "25c90ab2-3705-46e8-8e58-c88de57966a2"
      },
      "execution_count": 12,
      "outputs": [
        {
          "output_type": "stream",
          "name": "stdout",
          "text": [
            "sharpe_ratio: 0.2768791526005183\n"
          ]
        }
      ]
    },
    {
      "cell_type": "code",
      "source": [
        "#Total Returns\n",
        "russell_total_returns = russell_close[-1] / russell_close[0]\n",
        "print(f\"russell_total_returns:\" ,russell_total_returns)"
      ],
      "metadata": {
        "colab": {
          "base_uri": "https://localhost:8080/"
        },
        "id": "7_CooWh-VuOL",
        "outputId": "d53e65a0-bc8d-4a4e-cede-d4b6a225f23b"
      },
      "execution_count": 13,
      "outputs": [
        {
          "output_type": "stream",
          "name": "stdout",
          "text": [
            "russell_total_returns: 2.3401964853241846\n"
          ]
        },
        {
          "output_type": "stream",
          "name": "stderr",
          "text": [
            "<ipython-input-13-60707240273f>:2: FutureWarning: Series.__getitem__ treating keys as positions is deprecated. In a future version, integer keys will always be treated as labels (consistent with DataFrame behavior). To access a value by position, use `ser.iloc[pos]`\n",
            "  russell_total_returns = russell_close[-1] / russell_close[0]\n"
          ]
        }
      ]
    },
    {
      "cell_type": "code",
      "source": [
        "print(f\"\\nMean Returns: {russell_mean_returns}\")\n",
        "print(f\"Standard Deviation of Returns: {russell_std_returns}\")\n",
        "print(f\"Sharpe Ratio: {sharpe_ratio}\")\n",
        "print(f\"Total Returns: {russell_total_returns}\")"
      ],
      "metadata": {
        "colab": {
          "base_uri": "https://localhost:8080/"
        },
        "id": "NQBU4XtjWXLO",
        "outputId": "c19f7558-d9cd-40b6-f629-2bf43dc86406"
      },
      "execution_count": 15,
      "outputs": [
        {
          "output_type": "stream",
          "name": "stdout",
          "text": [
            "\n",
            "Mean Returns: 0.09405583550079015\n",
            "Standard Deviation of Returns: 0.23134943493997906\n",
            "Sharpe Ratio: 0.2768791526005183\n",
            "Total Returns: 2.3401964853241846\n"
          ]
        }
      ]
    }
  ]
}