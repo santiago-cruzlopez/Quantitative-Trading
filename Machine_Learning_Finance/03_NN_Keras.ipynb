{
 "cells": [
  {
   "cell_type": "markdown",
   "id": "b2a5f782",
   "metadata": {},
   "source": [
    "## Neural Networks - Keras\n",
    "\n",
    "functionality through a structured layers approach:\n",
    "\n",
    "- Input Layer: Collects sensory information (e.g., hearing, touching).\n",
    "- Hidden Layers: Two layers process inputs into emotions and feelings.\n",
    "- Output Layer: Generates decisions or actions based on processed inputs.\n",
    "This model offers a simplified view of the complex decision-making processes in the human brain.\n",
    "\n",
    "Most common types of neural networks (neural network trading):\n",
    "\n",
    "- Perceptron\n",
    "- Feed forward neural networks\n",
    "- Multilayer perceptron\n",
    "- Convolutional neural network\n",
    "- Recurrent neural network\n",
    "- Modular neural network\n",
    "\n",
    "Source:\n",
    "- https://blog.quantinsti.com/neural-network-python/"
   ]
  },
  {
   "cell_type": "markdown",
   "id": "6823bdc7",
   "metadata": {},
   "source": [
    "### How to train a neural network?\n",
    "\n",
    "We'll train a neural network to predict stock prices using historical OHLCV (Open, High, Low, Close, Volume) data. Here’s an overview of the process:\n",
    "\n",
    "1. Training Approaches:\n",
    " - Rule-Based: Define rules for outputs based on inputs.\n",
    " - Model Training: Adjust weights on a dataset to improve predictions.\n",
    "2. Dataset Structure:\n",
    " - Inputs: OHLCV data.\n",
    " - Output: Next day’s Close price (actual y and predicted y').\n",
    "3. Cost Function:\n",
    " - Measures prediction error:\n",
    "  $$ C = \\sum_{}^{}\\frac{1}{2}(\\widehat{y}-y)^{2} $$\n",
    " - Objective: Minimize this cost.\n",
    "4. Training Process:\n",
    " - Compute initial cost with a set of weights.\n",
    " - Adjust weights using backpropagation to reduce the cost iteratively.\n",
    "5. Optimization:\n",
    " - Evaluate cost across multiple weight configurations to find the best ones.\n",
    "\n",
    "By refining weights based on error, the neural network learns to predict stock prices effectively."
   ]
  },
  {
   "cell_type": "code",
   "execution_count": 1,
   "id": "d7679cfc",
   "metadata": {},
   "outputs": [
    {
     "name": "stdout",
     "output_type": "stream",
     "text": [
      "Requirement already satisfied: yfinance in c:\\users\\santi\\anaconda3\\lib\\site-packages (0.2.54)Note: you may need to restart the kernel to use updated packages.\n",
      "\n",
      "Requirement already satisfied: pandas>=1.3.0 in c:\\users\\santi\\anaconda3\\lib\\site-packages (from yfinance) (2.2.2)\n",
      "Requirement already satisfied: numpy>=1.16.5 in c:\\users\\santi\\anaconda3\\lib\\site-packages (from yfinance) (1.26.4)\n",
      "Requirement already satisfied: requests>=2.31 in c:\\users\\santi\\anaconda3\\lib\\site-packages (from yfinance) (2.32.3)\n",
      "Requirement already satisfied: multitasking>=0.0.7 in c:\\users\\santi\\anaconda3\\lib\\site-packages (from yfinance) (0.0.11)\n",
      "Requirement already satisfied: platformdirs>=2.0.0 in c:\\users\\santi\\appdata\\roaming\\python\\python312\\site-packages (from yfinance) (4.3.6)\n",
      "Requirement already satisfied: pytz>=2022.5 in c:\\users\\santi\\anaconda3\\lib\\site-packages (from yfinance) (2024.1)\n",
      "Requirement already satisfied: frozendict>=2.3.4 in c:\\users\\santi\\anaconda3\\lib\\site-packages (from yfinance) (2.4.2)\n",
      "Requirement already satisfied: peewee>=3.16.2 in c:\\users\\santi\\anaconda3\\lib\\site-packages (from yfinance) (3.17.9)\n",
      "Requirement already satisfied: beautifulsoup4>=4.11.1 in c:\\users\\santi\\anaconda3\\lib\\site-packages (from yfinance) (4.12.3)\n",
      "Requirement already satisfied: soupsieve>1.2 in c:\\users\\santi\\anaconda3\\lib\\site-packages (from beautifulsoup4>=4.11.1->yfinance) (2.5)\n",
      "Requirement already satisfied: python-dateutil>=2.8.2 in c:\\users\\santi\\appdata\\roaming\\python\\python312\\site-packages (from pandas>=1.3.0->yfinance) (2.9.0.post0)\n",
      "Requirement already satisfied: tzdata>=2022.7 in c:\\users\\santi\\anaconda3\\lib\\site-packages (from pandas>=1.3.0->yfinance) (2023.3)\n",
      "Requirement already satisfied: charset-normalizer<4,>=2 in c:\\users\\santi\\anaconda3\\lib\\site-packages (from requests>=2.31->yfinance) (3.3.2)\n",
      "Requirement already satisfied: idna<4,>=2.5 in c:\\users\\santi\\anaconda3\\lib\\site-packages (from requests>=2.31->yfinance) (3.7)\n",
      "Requirement already satisfied: urllib3<3,>=1.21.1 in c:\\users\\santi\\anaconda3\\lib\\site-packages (from requests>=2.31->yfinance) (2.2.3)\n",
      "Requirement already satisfied: certifi>=2017.4.17 in c:\\users\\santi\\anaconda3\\lib\\site-packages (from requests>=2.31->yfinance) (2025.1.31)\n",
      "Requirement already satisfied: six>=1.5 in c:\\users\\santi\\appdata\\roaming\\python\\python312\\site-packages (from python-dateutil>=2.8.2->pandas>=1.3.0->yfinance) (1.16.0)\n"
     ]
    }
   ],
   "source": [
    "pip install yfinance"
   ]
  },
  {
   "cell_type": "code",
   "execution_count": 15,
   "id": "5ef946b9",
   "metadata": {},
   "outputs": [],
   "source": [
    "# Ta-lib is a technical analysis library, which will be used to compute the RSI and Williams %R. \n",
    "# These will be used as features in order to train our artificial neural network or ANN.\n",
    "# Instructions for the Installation: https://blog.quantinsti.com/install-ta-lib-python/\n",
    "# https://github.com/cgohlke/talib-build/releases -> Install ta_lib-0.6.3-cp313-cp313-win_amd64.whl On Windows win_amd64\n",
    "\n",
    "import numpy as np\n",
    "import pandas as pd\n",
    "import yfinance as yf\n",
    "import matplotlib.pyplot as plt\n",
    "import random\n",
    "import talib"
   ]
  },
  {
   "cell_type": "code",
   "execution_count": 14,
   "id": "adb3563f",
   "metadata": {},
   "outputs": [
    {
     "name": "stderr",
     "output_type": "stream",
     "text": [
      "[*********************100%***********************]  1 of 1 completed\n"
     ]
    }
   ],
   "source": [
    "random.seed(42)\n",
    "\n",
    "price_stock = yf.download('AAPL', start='2017-01-01', end='2024-04-09', auto_adjust=True)"
   ]
  },
  {
   "cell_type": "code",
   "execution_count": 18,
   "id": "7d190bb0",
   "metadata": {},
   "outputs": [],
   "source": [
    "# Preparing the dataset\n",
    "# We will be building our input features by using only the OHLC values. \n",
    "# This dataset will help us to specify the features for training our neural network in the next step.\n",
    "\n",
    "price_stock['H-L'] = price_stock['High'] - price_stock['Low']\n",
    "price_stock['O-C'] = price_stock['Close'] - price_stock['Open']\n",
    "price_stock['3day MA'] = price_stock['Close'].shift(1).rolling(window=3).mean()\n",
    "price_stock['10day MA'] = price_stock['Close'].shift(1).rolling(window=10).mean()\n",
    "price_stock['30day MA'] = price_stock['Close'].shift(1).rolling(window=30).mean()\n",
    "price_stock['Std_Dev'] = price_stock['Close'].rolling(5).std()\n",
    "price_stock['RSI'] = talib.RSI(price_stock['Close'].values.flatten(), timeperiod=9)\n",
    "price_stock['Williams %R'] = talib.WILLR(price_stock['High'].values.flatten(), price_stock['Low'].values.flatten(), price_stock['Close'].values.flatten(), 7)"
   ]
  }
 ],
 "metadata": {
  "kernelspec": {
   "display_name": "base",
   "language": "python",
   "name": "python3"
  },
  "language_info": {
   "codemirror_mode": {
    "name": "ipython",
    "version": 3
   },
   "file_extension": ".py",
   "mimetype": "text/x-python",
   "name": "python",
   "nbconvert_exporter": "python",
   "pygments_lexer": "ipython3",
   "version": "3.12.7"
  }
 },
 "nbformat": 4,
 "nbformat_minor": 5
}
