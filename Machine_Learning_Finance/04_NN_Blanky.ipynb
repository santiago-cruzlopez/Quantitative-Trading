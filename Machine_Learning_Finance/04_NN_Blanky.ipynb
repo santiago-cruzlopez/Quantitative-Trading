{
 "cells": [
  {
   "cell_type": "code",
   "execution_count": null,
   "id": "f89e3e04",
   "metadata": {},
   "outputs": [],
   "source": [
    "# pip3 install torch torchvision torchaudio - URL https://pytorch.org/get-started/locally/\n",
    "\n",
    "import numpy as np\n",
    "import pandas as pd\n",
    "import torch\n",
    "import torch.nn as nn\n",
    "import torch.nn.functional as F\n",
    "from torch.nn import LSTM\n",
    "import torch.optim as optim\n",
    "from torch.autograd import Variable"
   ]
  },
  {
   "cell_type": "code",
   "execution_count": null,
   "id": "afe8a648",
   "metadata": {},
   "outputs": [],
   "source": [
    "def episode_gen(data, seq_lenght, output_lenght):\n",
    "    \"\"\"\n",
    "    Generate sequences of data for training\n",
    "    :param data: DataFrame containing the data\n",
    "    :param seq_lenght: Length of input sequence\n",
    "    :param output_lenght: Length of output sequence\n",
    "    :return: Tuple of input and output sequences\n",
    "    \"\"\"\n",
    "    data = data.values\n",
    "    X = []\n",
    "    y = []\n",
    "    \n",
    "    for i in range(len(data) - seq_lenght - output_lenght):\n",
    "        X.append(data[i:i + seq_lenght])\n",
    "        y.append(data[i + seq_lenght:i + seq_lenght + output_lenght])\n",
    "    \n",
    "    return np.array(X), np.array(y)"
   ]
  }
 ],
 "metadata": {
  "kernelspec": {
   "display_name": "base",
   "language": "python",
   "name": "python3"
  },
  "language_info": {
   "codemirror_mode": {
    "name": "ipython",
    "version": 3
   },
   "file_extension": ".py",
   "mimetype": "text/x-python",
   "name": "python",
   "nbconvert_exporter": "python",
   "pygments_lexer": "ipython3",
   "version": "3.12.7"
  }
 },
 "nbformat": 4,
 "nbformat_minor": 5
}
