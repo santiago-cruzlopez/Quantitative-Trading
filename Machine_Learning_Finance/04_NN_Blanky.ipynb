{
 "cells": [
  {
   "cell_type": "markdown",
   "id": "bed49a19",
   "metadata": {},
   "source": [
    "- Source: "
   ]
  },
  {
   "cell_type": "code",
   "execution_count": 2,
   "id": "dce71200",
   "metadata": {},
   "outputs": [
    {
     "name": "stdout",
     "output_type": "stream",
     "text": [
      "Requirement already satisfied: yfinance in c:\\users\\santi\\anaconda3\\lib\\site-packages (0.2.54)Note: you may need to restart the kernel to use updated packages.\n",
      "\n",
      "Requirement already satisfied: pandas>=1.3.0 in c:\\users\\santi\\anaconda3\\lib\\site-packages (from yfinance) (2.2.2)\n",
      "Requirement already satisfied: numpy>=1.16.5 in c:\\users\\santi\\anaconda3\\lib\\site-packages (from yfinance) (1.26.4)\n",
      "Requirement already satisfied: requests>=2.31 in c:\\users\\santi\\anaconda3\\lib\\site-packages (from yfinance) (2.32.3)\n",
      "Requirement already satisfied: multitasking>=0.0.7 in c:\\users\\santi\\anaconda3\\lib\\site-packages (from yfinance) (0.0.11)\n",
      "Requirement already satisfied: platformdirs>=2.0.0 in c:\\users\\santi\\appdata\\roaming\\python\\python312\\site-packages (from yfinance) (4.3.6)\n",
      "Requirement already satisfied: pytz>=2022.5 in c:\\users\\santi\\anaconda3\\lib\\site-packages (from yfinance) (2024.1)\n",
      "Requirement already satisfied: frozendict>=2.3.4 in c:\\users\\santi\\anaconda3\\lib\\site-packages (from yfinance) (2.4.2)\n",
      "Requirement already satisfied: peewee>=3.16.2 in c:\\users\\santi\\anaconda3\\lib\\site-packages (from yfinance) (3.17.9)\n",
      "Requirement already satisfied: beautifulsoup4>=4.11.1 in c:\\users\\santi\\anaconda3\\lib\\site-packages (from yfinance) (4.12.3)\n",
      "Requirement already satisfied: soupsieve>1.2 in c:\\users\\santi\\anaconda3\\lib\\site-packages (from beautifulsoup4>=4.11.1->yfinance) (2.5)\n",
      "Requirement already satisfied: python-dateutil>=2.8.2 in c:\\users\\santi\\appdata\\roaming\\python\\python312\\site-packages (from pandas>=1.3.0->yfinance) (2.9.0.post0)\n",
      "Requirement already satisfied: tzdata>=2022.7 in c:\\users\\santi\\anaconda3\\lib\\site-packages (from pandas>=1.3.0->yfinance) (2023.3)\n",
      "Requirement already satisfied: charset-normalizer<4,>=2 in c:\\users\\santi\\anaconda3\\lib\\site-packages (from requests>=2.31->yfinance) (3.3.2)\n",
      "Requirement already satisfied: idna<4,>=2.5 in c:\\users\\santi\\anaconda3\\lib\\site-packages (from requests>=2.31->yfinance) (3.7)\n",
      "Requirement already satisfied: urllib3<3,>=1.21.1 in c:\\users\\santi\\anaconda3\\lib\\site-packages (from requests>=2.31->yfinance) (2.2.3)\n",
      "Requirement already satisfied: certifi>=2017.4.17 in c:\\users\\santi\\anaconda3\\lib\\site-packages (from requests>=2.31->yfinance) (2025.1.31)\n",
      "Requirement already satisfied: six>=1.5 in c:\\users\\santi\\appdata\\roaming\\python\\python312\\site-packages (from python-dateutil>=2.8.2->pandas>=1.3.0->yfinance) (1.16.0)\n"
     ]
    }
   ],
   "source": [
    "pip install yfinance"
   ]
  },
  {
   "cell_type": "code",
   "execution_count": 3,
   "id": "f89e3e04",
   "metadata": {},
   "outputs": [],
   "source": [
    "# Grab Data\n",
    "import yfinance as yf\n",
    "\n",
    "# Common Libraries\n",
    "import numpy as np\n",
    "import pandas as pd\n",
    "import seaborn as sns\n",
    "import plotly.express as px\n",
    "import matplotlib.pyplot as plt\n",
    "\n",
    "# pip3 install torch torchvision torchaudio - URL https://pytorch.org/get-started/locally/\n",
    "import torch\n",
    "import torch.nn as nn\n",
    "import torch.nn.functional as F\n",
    "from torch.nn import LSTM\n",
    "import torch.optim as optim\n",
    "from torch.autograd import Variable"
   ]
  },
  {
   "cell_type": "code",
   "execution_count": 4,
   "id": "d2dba218",
   "metadata": {},
   "outputs": [
    {
     "name": "stdout",
     "output_type": "stream",
     "text": [
      "YF.download() has changed argument auto_adjust default to True\n"
     ]
    },
    {
     "name": "stderr",
     "output_type": "stream",
     "text": [
      "[*********************100%***********************]  1 of 1 completed"
     ]
    },
    {
     "name": "stdout",
     "output_type": "stream",
     "text": [
      "Index(['Date', 'Close'], dtype='object', name='Ticker')\n",
      "Ticker       Date     Close   Returns  Direction\n",
      "0      2013-01-01  1.320132       NaN          0\n",
      "1      2013-01-02  1.319784 -0.000264          0\n",
      "2      2013-01-03  1.318218 -0.001186          0\n",
      "3      2013-01-04  1.303271 -0.011338          0\n",
      "4      2013-01-07  1.306745  0.002666          1\n"
     ]
    },
    {
     "name": "stderr",
     "output_type": "stream",
     "text": [
      "\n"
     ]
    }
   ],
   "source": [
    "# Download the data\n",
    "# The EUR/USD exchange rate data from Yahoo Finance\n",
    "data = yf.download(\"EURUSD=X\", start=\"2013-01-01\", end=\"2025-04-11\")[\"Close\"]\n",
    "\n",
    "# Create a DataFrame from the Downloaded Data\n",
    "raw_data = pd.DataFrame(data).reset_index()\n",
    "raw_data.rename(columns={ \"EURUSD=X\": \"Close\"}, inplace=True)  # Change 'Close' to 'EURUSD=X'\n",
    "\n",
    "print(raw_data.columns)\n",
    "\n",
    "# Calculate the returns and add them to the DataFrame\n",
    "raw_data[\"Returns\"] = raw_data[\"Close\"].pct_change()\n",
    "\n",
    "# When the market direction is greater than 0 --> class 1 (up), else class 0 (down)\n",
    "raw_data[\"Direction\"] = np.where(raw_data[\"Returns\"] > 0, 1, 0)\n",
    "\n",
    "print(raw_data.head())"
   ]
  },
  {
   "cell_type": "code",
   "execution_count": 6,
   "id": "dd5deb1e",
   "metadata": {},
   "outputs": [
    {
     "data": {
      "text/html": [
       "<div>\n",
       "<style scoped>\n",
       "    .dataframe tbody tr th:only-of-type {\n",
       "        vertical-align: middle;\n",
       "    }\n",
       "\n",
       "    .dataframe tbody tr th {\n",
       "        vertical-align: top;\n",
       "    }\n",
       "\n",
       "    .dataframe thead th {\n",
       "        text-align: right;\n",
       "    }\n",
       "</style>\n",
       "<table border=\"1\" class=\"dataframe\">\n",
       "  <thead>\n",
       "    <tr style=\"text-align: right;\">\n",
       "      <th>Ticker</th>\n",
       "      <th>Date</th>\n",
       "      <th>Close</th>\n",
       "      <th>Returns</th>\n",
       "      <th>Direction</th>\n",
       "      <th>lag_1</th>\n",
       "      <th>lag_2</th>\n",
       "      <th>lag_3</th>\n",
       "      <th>lag_4</th>\n",
       "      <th>lag_5</th>\n",
       "    </tr>\n",
       "  </thead>\n",
       "  <tbody>\n",
       "    <tr>\n",
       "      <th>3193</th>\n",
       "      <td>2025-04-04</td>\n",
       "      <td>1.1044</td>\n",
       "      <td>0.0124</td>\n",
       "      <td>1</td>\n",
       "      <td>0.0104</td>\n",
       "      <td>-0.0021</td>\n",
       "      <td>-0.0005</td>\n",
       "      <td>0.0021</td>\n",
       "      <td>0.0055</td>\n",
       "    </tr>\n",
       "    <tr>\n",
       "      <th>3194</th>\n",
       "      <td>2025-04-07</td>\n",
       "      <td>1.0985</td>\n",
       "      <td>-0.0054</td>\n",
       "      <td>0</td>\n",
       "      <td>0.0124</td>\n",
       "      <td>0.0104</td>\n",
       "      <td>-0.0021</td>\n",
       "      <td>-0.0005</td>\n",
       "      <td>0.0021</td>\n",
       "    </tr>\n",
       "    <tr>\n",
       "      <th>3195</th>\n",
       "      <td>2025-04-08</td>\n",
       "      <td>1.0915</td>\n",
       "      <td>-0.0063</td>\n",
       "      <td>0</td>\n",
       "      <td>-0.0054</td>\n",
       "      <td>0.0124</td>\n",
       "      <td>0.0104</td>\n",
       "      <td>-0.0021</td>\n",
       "      <td>-0.0005</td>\n",
       "    </tr>\n",
       "    <tr>\n",
       "      <th>3196</th>\n",
       "      <td>2025-04-09</td>\n",
       "      <td>1.0980</td>\n",
       "      <td>0.0060</td>\n",
       "      <td>1</td>\n",
       "      <td>-0.0063</td>\n",
       "      <td>-0.0054</td>\n",
       "      <td>0.0124</td>\n",
       "      <td>0.0104</td>\n",
       "      <td>-0.0021</td>\n",
       "    </tr>\n",
       "    <tr>\n",
       "      <th>3197</th>\n",
       "      <td>2025-04-10</td>\n",
       "      <td>1.0952</td>\n",
       "      <td>-0.0026</td>\n",
       "      <td>0</td>\n",
       "      <td>0.0060</td>\n",
       "      <td>-0.0063</td>\n",
       "      <td>-0.0054</td>\n",
       "      <td>0.0124</td>\n",
       "      <td>0.0104</td>\n",
       "    </tr>\n",
       "  </tbody>\n",
       "</table>\n",
       "</div>"
      ],
      "text/plain": [
       "Ticker       Date   Close  Returns  Direction   lag_1   lag_2   lag_3   lag_4  \\\n",
       "3193   2025-04-04  1.1044   0.0124          1  0.0104 -0.0021 -0.0005  0.0021   \n",
       "3194   2025-04-07  1.0985  -0.0054          0  0.0124  0.0104 -0.0021 -0.0005   \n",
       "3195   2025-04-08  1.0915  -0.0063          0 -0.0054  0.0124  0.0104 -0.0021   \n",
       "3196   2025-04-09  1.0980   0.0060          1 -0.0063 -0.0054  0.0124  0.0104   \n",
       "3197   2025-04-10  1.0952  -0.0026          0  0.0060 -0.0063 -0.0054  0.0124   \n",
       "\n",
       "Ticker   lag_5  \n",
       "3193    0.0055  \n",
       "3194    0.0021  \n",
       "3195   -0.0005  \n",
       "3196   -0.0021  \n",
       "3197    0.0104  "
      ]
     },
     "execution_count": 6,
     "metadata": {},
     "output_type": "execute_result"
    }
   ],
   "source": [
    "lags = 5\n",
    "# Create lagged features\n",
    "cols = []\n",
    "for lag in range(1, lags + 1):\n",
    "    col = f\"lag_{lag}\"\n",
    "    raw_data[col] = raw_data[\"Returns\"].shift(lag)\n",
    "    cols.append(col)\n",
    "raw_data.dropna(inplace=True)\n",
    "raw_data.round(4).tail()"
   ]
  }
 ],
 "metadata": {
  "kernelspec": {
   "display_name": "base",
   "language": "python",
   "name": "python3"
  },
  "language_info": {
   "codemirror_mode": {
    "name": "ipython",
    "version": 3
   },
   "file_extension": ".py",
   "mimetype": "text/x-python",
   "name": "python",
   "nbconvert_exporter": "python",
   "pygments_lexer": "ipython3",
   "version": "3.12.7"
  }
 },
 "nbformat": 4,
 "nbformat_minor": 5
}
