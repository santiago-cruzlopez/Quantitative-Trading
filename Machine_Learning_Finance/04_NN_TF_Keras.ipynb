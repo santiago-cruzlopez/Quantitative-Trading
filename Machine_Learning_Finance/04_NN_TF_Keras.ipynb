{
 "cells": [
  {
   "cell_type": "code",
   "execution_count": 2,
   "id": "dce71200",
   "metadata": {},
   "outputs": [
    {
     "name": "stdout",
     "output_type": "stream",
     "text": [
      "Requirement already satisfied: yfinance in c:\\users\\santi\\anaconda3\\lib\\site-packages (0.2.54)Note: you may need to restart the kernel to use updated packages.\n",
      "\n",
      "Requirement already satisfied: pandas>=1.3.0 in c:\\users\\santi\\anaconda3\\lib\\site-packages (from yfinance) (2.2.2)\n",
      "Requirement already satisfied: numpy>=1.16.5 in c:\\users\\santi\\anaconda3\\lib\\site-packages (from yfinance) (1.26.4)\n",
      "Requirement already satisfied: requests>=2.31 in c:\\users\\santi\\anaconda3\\lib\\site-packages (from yfinance) (2.32.3)\n",
      "Requirement already satisfied: multitasking>=0.0.7 in c:\\users\\santi\\anaconda3\\lib\\site-packages (from yfinance) (0.0.11)\n",
      "Requirement already satisfied: platformdirs>=2.0.0 in c:\\users\\santi\\appdata\\roaming\\python\\python312\\site-packages (from yfinance) (4.3.6)\n",
      "Requirement already satisfied: pytz>=2022.5 in c:\\users\\santi\\anaconda3\\lib\\site-packages (from yfinance) (2024.1)\n",
      "Requirement already satisfied: frozendict>=2.3.4 in c:\\users\\santi\\anaconda3\\lib\\site-packages (from yfinance) (2.4.2)\n",
      "Requirement already satisfied: peewee>=3.16.2 in c:\\users\\santi\\anaconda3\\lib\\site-packages (from yfinance) (3.17.9)\n",
      "Requirement already satisfied: beautifulsoup4>=4.11.1 in c:\\users\\santi\\anaconda3\\lib\\site-packages (from yfinance) (4.12.3)\n",
      "Requirement already satisfied: soupsieve>1.2 in c:\\users\\santi\\anaconda3\\lib\\site-packages (from beautifulsoup4>=4.11.1->yfinance) (2.5)\n",
      "Requirement already satisfied: python-dateutil>=2.8.2 in c:\\users\\santi\\appdata\\roaming\\python\\python312\\site-packages (from pandas>=1.3.0->yfinance) (2.9.0.post0)\n",
      "Requirement already satisfied: tzdata>=2022.7 in c:\\users\\santi\\anaconda3\\lib\\site-packages (from pandas>=1.3.0->yfinance) (2023.3)\n",
      "Requirement already satisfied: charset-normalizer<4,>=2 in c:\\users\\santi\\anaconda3\\lib\\site-packages (from requests>=2.31->yfinance) (3.3.2)\n",
      "Requirement already satisfied: idna<4,>=2.5 in c:\\users\\santi\\anaconda3\\lib\\site-packages (from requests>=2.31->yfinance) (3.7)\n",
      "Requirement already satisfied: urllib3<3,>=1.21.1 in c:\\users\\santi\\anaconda3\\lib\\site-packages (from requests>=2.31->yfinance) (2.2.3)\n",
      "Requirement already satisfied: certifi>=2017.4.17 in c:\\users\\santi\\anaconda3\\lib\\site-packages (from requests>=2.31->yfinance) (2025.1.31)\n",
      "Requirement already satisfied: six>=1.5 in c:\\users\\santi\\appdata\\roaming\\python\\python312\\site-packages (from python-dateutil>=2.8.2->pandas>=1.3.0->yfinance) (1.16.0)\n"
     ]
    }
   ],
   "source": [
    "pip install yfinance"
   ]
  },
  {
   "cell_type": "code",
   "execution_count": 22,
   "id": "f89e3e04",
   "metadata": {},
   "outputs": [],
   "source": [
    "# Grab Data\n",
    "import yfinance as yf\n",
    "\n",
    "# Common Libraries\n",
    "import numpy as np\n",
    "import pandas as pd\n",
    "import seaborn as sns\n",
    "import plotly.express as px\n",
    "import matplotlib.pyplot as plt"
   ]
  },
  {
   "cell_type": "code",
   "execution_count": 20,
   "id": "d2dba218",
   "metadata": {},
   "outputs": [
    {
     "name": "stderr",
     "output_type": "stream",
     "text": [
      "[*********************100%***********************]  1 of 1 completed\n"
     ]
    },
    {
     "data": {
      "text/html": [
       "<div>\n",
       "<style scoped>\n",
       "    .dataframe tbody tr th:only-of-type {\n",
       "        vertical-align: middle;\n",
       "    }\n",
       "\n",
       "    .dataframe tbody tr th {\n",
       "        vertical-align: top;\n",
       "    }\n",
       "\n",
       "    .dataframe thead th {\n",
       "        text-align: right;\n",
       "    }\n",
       "</style>\n",
       "<table border=\"1\" class=\"dataframe\">\n",
       "  <thead>\n",
       "    <tr style=\"text-align: right;\">\n",
       "      <th>Ticker</th>\n",
       "      <th>EURUSD=X</th>\n",
       "    </tr>\n",
       "    <tr>\n",
       "      <th>Date</th>\n",
       "      <th></th>\n",
       "    </tr>\n",
       "  </thead>\n",
       "  <tbody>\n",
       "    <tr>\n",
       "      <th>2013-01-01</th>\n",
       "      <td>1.320132</td>\n",
       "    </tr>\n",
       "    <tr>\n",
       "      <th>2013-01-02</th>\n",
       "      <td>1.319784</td>\n",
       "    </tr>\n",
       "    <tr>\n",
       "      <th>2013-01-03</th>\n",
       "      <td>1.318218</td>\n",
       "    </tr>\n",
       "    <tr>\n",
       "      <th>2013-01-04</th>\n",
       "      <td>1.303271</td>\n",
       "    </tr>\n",
       "    <tr>\n",
       "      <th>2013-01-07</th>\n",
       "      <td>1.306745</td>\n",
       "    </tr>\n",
       "  </tbody>\n",
       "</table>\n",
       "</div>"
      ],
      "text/plain": [
       "Ticker      EURUSD=X\n",
       "Date                \n",
       "2013-01-01  1.320132\n",
       "2013-01-02  1.319784\n",
       "2013-01-03  1.318218\n",
       "2013-01-04  1.303271\n",
       "2013-01-07  1.306745"
      ]
     },
     "execution_count": 20,
     "metadata": {},
     "output_type": "execute_result"
    }
   ],
   "source": [
    "# Download the data\n",
    "# The EUR/USD exchange rate data from Yahoo Finance\n",
    "data = yf.download(\"EURUSD=X\", start=\"2013-01-01\", end=\"2025-04-15\")[\"Close\"]\n",
    "data.head()"
   ]
  },
  {
   "cell_type": "code",
   "execution_count": 16,
   "id": "8f8f2cb1",
   "metadata": {},
   "outputs": [
    {
     "data": {
      "text/html": [
       "<div>\n",
       "<style scoped>\n",
       "    .dataframe tbody tr th:only-of-type {\n",
       "        vertical-align: middle;\n",
       "    }\n",
       "\n",
       "    .dataframe tbody tr th {\n",
       "        vertical-align: top;\n",
       "    }\n",
       "\n",
       "    .dataframe thead th {\n",
       "        text-align: right;\n",
       "    }\n",
       "</style>\n",
       "<table border=\"1\" class=\"dataframe\">\n",
       "  <thead>\n",
       "    <tr style=\"text-align: right;\">\n",
       "      <th>Ticker</th>\n",
       "      <th>Date</th>\n",
       "      <th>Close</th>\n",
       "      <th>Returns</th>\n",
       "      <th>Direction</th>\n",
       "    </tr>\n",
       "  </thead>\n",
       "  <tbody>\n",
       "    <tr>\n",
       "      <th>0</th>\n",
       "      <td>2013-01-01</td>\n",
       "      <td>1.320132</td>\n",
       "      <td>NaN</td>\n",
       "      <td>0</td>\n",
       "    </tr>\n",
       "    <tr>\n",
       "      <th>1</th>\n",
       "      <td>2013-01-02</td>\n",
       "      <td>1.319784</td>\n",
       "      <td>-0.000264</td>\n",
       "      <td>0</td>\n",
       "    </tr>\n",
       "    <tr>\n",
       "      <th>2</th>\n",
       "      <td>2013-01-03</td>\n",
       "      <td>1.318218</td>\n",
       "      <td>-0.001186</td>\n",
       "      <td>0</td>\n",
       "    </tr>\n",
       "    <tr>\n",
       "      <th>3</th>\n",
       "      <td>2013-01-04</td>\n",
       "      <td>1.303271</td>\n",
       "      <td>-0.011338</td>\n",
       "      <td>0</td>\n",
       "    </tr>\n",
       "    <tr>\n",
       "      <th>4</th>\n",
       "      <td>2013-01-07</td>\n",
       "      <td>1.306745</td>\n",
       "      <td>0.002666</td>\n",
       "      <td>1</td>\n",
       "    </tr>\n",
       "  </tbody>\n",
       "</table>\n",
       "</div>"
      ],
      "text/plain": [
       "Ticker       Date     Close   Returns  Direction\n",
       "0      2013-01-01  1.320132       NaN          0\n",
       "1      2013-01-02  1.319784 -0.000264          0\n",
       "2      2013-01-03  1.318218 -0.001186          0\n",
       "3      2013-01-04  1.303271 -0.011338          0\n",
       "4      2013-01-07  1.306745  0.002666          1"
      ]
     },
     "execution_count": 16,
     "metadata": {},
     "output_type": "execute_result"
    }
   ],
   "source": [
    "# Create a DataFrame from the Downloaded Data\n",
    "raw_data = pd.DataFrame(data).reset_index()\n",
    "raw_data.rename(columns={ \"EURUSD=X\": \"Close\"}, inplace=True)  # Change 'Close' to 'EURUSD=X'\n",
    "\n",
    "# Calculate the returns and add them to the DataFrame\n",
    "raw_data[\"Returns\"] = raw_data[\"Close\"].pct_change()\n",
    "\n",
    "# When the market direction is greater than 0 --> class 1 (up), else class 0 (down)\n",
    "raw_data[\"Direction\"] = np.where(raw_data[\"Returns\"] > 0, 1, 0)\n",
    "\n",
    "raw_data.head()"
   ]
  },
  {
   "cell_type": "code",
   "execution_count": 21,
   "id": "dd5deb1e",
   "metadata": {},
   "outputs": [
    {
     "data": {
      "text/html": [
       "<div>\n",
       "<style scoped>\n",
       "    .dataframe tbody tr th:only-of-type {\n",
       "        vertical-align: middle;\n",
       "    }\n",
       "\n",
       "    .dataframe tbody tr th {\n",
       "        vertical-align: top;\n",
       "    }\n",
       "\n",
       "    .dataframe thead th {\n",
       "        text-align: right;\n",
       "    }\n",
       "</style>\n",
       "<table border=\"1\" class=\"dataframe\">\n",
       "  <thead>\n",
       "    <tr style=\"text-align: right;\">\n",
       "      <th>Ticker</th>\n",
       "      <th>Date</th>\n",
       "      <th>Close</th>\n",
       "      <th>Returns</th>\n",
       "      <th>Direction</th>\n",
       "      <th>lag_1</th>\n",
       "      <th>lag_2</th>\n",
       "      <th>lag_3</th>\n",
       "      <th>lag_4</th>\n",
       "      <th>lag_5</th>\n",
       "    </tr>\n",
       "  </thead>\n",
       "  <tbody>\n",
       "    <tr>\n",
       "      <th>3195</th>\n",
       "      <td>2025-04-08</td>\n",
       "      <td>1.0915</td>\n",
       "      <td>-0.0063</td>\n",
       "      <td>0</td>\n",
       "      <td>-0.0054</td>\n",
       "      <td>0.0124</td>\n",
       "      <td>0.0104</td>\n",
       "      <td>-0.0021</td>\n",
       "      <td>-0.0005</td>\n",
       "    </tr>\n",
       "    <tr>\n",
       "      <th>3196</th>\n",
       "      <td>2025-04-09</td>\n",
       "      <td>1.0980</td>\n",
       "      <td>0.0060</td>\n",
       "      <td>1</td>\n",
       "      <td>-0.0063</td>\n",
       "      <td>-0.0054</td>\n",
       "      <td>0.0124</td>\n",
       "      <td>0.0104</td>\n",
       "      <td>-0.0021</td>\n",
       "    </tr>\n",
       "    <tr>\n",
       "      <th>3197</th>\n",
       "      <td>2025-04-10</td>\n",
       "      <td>1.0952</td>\n",
       "      <td>-0.0026</td>\n",
       "      <td>0</td>\n",
       "      <td>0.0060</td>\n",
       "      <td>-0.0063</td>\n",
       "      <td>-0.0054</td>\n",
       "      <td>0.0124</td>\n",
       "      <td>0.0104</td>\n",
       "    </tr>\n",
       "    <tr>\n",
       "      <th>3198</th>\n",
       "      <td>2025-04-11</td>\n",
       "      <td>1.1258</td>\n",
       "      <td>0.0279</td>\n",
       "      <td>1</td>\n",
       "      <td>-0.0026</td>\n",
       "      <td>0.0060</td>\n",
       "      <td>-0.0063</td>\n",
       "      <td>-0.0054</td>\n",
       "      <td>0.0124</td>\n",
       "    </tr>\n",
       "    <tr>\n",
       "      <th>3199</th>\n",
       "      <td>2025-04-14</td>\n",
       "      <td>1.1343</td>\n",
       "      <td>0.0076</td>\n",
       "      <td>1</td>\n",
       "      <td>0.0279</td>\n",
       "      <td>-0.0026</td>\n",
       "      <td>0.0060</td>\n",
       "      <td>-0.0063</td>\n",
       "      <td>-0.0054</td>\n",
       "    </tr>\n",
       "  </tbody>\n",
       "</table>\n",
       "</div>"
      ],
      "text/plain": [
       "Ticker       Date   Close  Returns  Direction   lag_1   lag_2   lag_3   lag_4  \\\n",
       "3195   2025-04-08  1.0915  -0.0063          0 -0.0054  0.0124  0.0104 -0.0021   \n",
       "3196   2025-04-09  1.0980   0.0060          1 -0.0063 -0.0054  0.0124  0.0104   \n",
       "3197   2025-04-10  1.0952  -0.0026          0  0.0060 -0.0063 -0.0054  0.0124   \n",
       "3198   2025-04-11  1.1258   0.0279          1 -0.0026  0.0060 -0.0063 -0.0054   \n",
       "3199   2025-04-14  1.1343   0.0076          1  0.0279 -0.0026  0.0060 -0.0063   \n",
       "\n",
       "Ticker   lag_5  \n",
       "3195   -0.0005  \n",
       "3196   -0.0021  \n",
       "3197    0.0104  \n",
       "3198    0.0124  \n",
       "3199   -0.0054  "
      ]
     },
     "execution_count": 21,
     "metadata": {},
     "output_type": "execute_result"
    }
   ],
   "source": [
    "# Last 5 Days of Data to predict the value\n",
    "lags = 5\n",
    "# Create lagged features\n",
    "cols = []\n",
    "for lag in range(1, lags + 1):\n",
    "    col = f\"lag_{lag}\"\n",
    "    raw_data[col] = raw_data[\"Returns\"].shift(lag)\n",
    "    cols.append(col)\n",
    "raw_data.dropna(inplace=True)\n",
    "raw_data.round(4).tail()"
   ]
  },
  {
   "cell_type": "markdown",
   "id": "a2f75d39",
   "metadata": {},
   "source": [
    "### Neural Network Code"
   ]
  },
  {
   "cell_type": "code",
   "execution_count": 24,
   "id": "333b41ee",
   "metadata": {},
   "outputs": [],
   "source": [
    "import tensorflow as tf\n",
    "from keras.models import Sequential\n",
    "from keras.layers import Dense\n",
    "from keras.optimizers import Adam, RMSprop\n",
    "import random"
   ]
  },
  {
   "cell_type": "code",
   "execution_count": 26,
   "id": "94f718b5",
   "metadata": {},
   "outputs": [],
   "source": [
    "optimizer = Adam(learning_rate=0.001)  # You can also try RMSprop or SGD\n",
    "# Define the model\n",
    "def set_seeds(seed =42):\n",
    "    random.seed(seed)\n",
    "    np.random.seed(seed)\n",
    "    tf.random.set_seed(seed)"
   ]
  },
  {
   "cell_type": "code",
   "execution_count": 27,
   "id": "d84e7648",
   "metadata": {},
   "outputs": [
    {
     "name": "stderr",
     "output_type": "stream",
     "text": [
      "c:\\Users\\santi\\anaconda3\\Lib\\site-packages\\keras\\src\\layers\\core\\dense.py:87: UserWarning: Do not pass an `input_shape`/`input_dim` argument to a layer. When using Sequential models, prefer using an `Input(shape)` object as the first layer in the model instead.\n",
      "  super().__init__(activity_regularizer=activity_regularizer, **kwargs)\n"
     ]
    }
   ],
   "source": [
    "set_seeds()\n",
    "model = Sequential()\n",
    "model.add(Dense(64, activation='relu', input_shape=(lags,)))\n",
    "model.add(Dense(64, activation='relu'))\n",
    "model.add(Dense(1, activation='sigmoid'))  # Sigmoid for binary classification\n",
    "model.compile(optimizer=optimizer, \n",
    "              loss='binary_crossentropy', \n",
    "              metrics=['accuracy'])"
   ]
  },
  {
   "cell_type": "code",
   "execution_count": 28,
   "id": "35520fa2",
   "metadata": {},
   "outputs": [
    {
     "name": "stderr",
     "output_type": "stream",
     "text": [
      "c:\\Users\\santi\\anaconda3\\Lib\\site-packages\\numpy\\core\\fromnumeric.py:59: FutureWarning: 'DataFrame.swapaxes' is deprecated and will be removed in a future version. Please use 'DataFrame.transpose' instead.\n",
      "  return bound(*args, **kwds)\n"
     ]
    }
   ],
   "source": [
    "train_set, test_set = np.split(raw_data, [int(0.70 * len(raw_data))])"
   ]
  },
  {
   "cell_type": "code",
   "execution_count": 29,
   "id": "265d986e",
   "metadata": {},
   "outputs": [],
   "source": [
    "mu, std = train_set.mean(), train_set.std()"
   ]
  },
  {
   "cell_type": "code",
   "execution_count": 30,
   "id": "e4b7890c",
   "metadata": {},
   "outputs": [
    {
     "name": "stderr",
     "output_type": "stream",
     "text": [
      "C:\\Users\\santi\\AppData\\Local\\Temp\\ipykernel_4488\\3016182581.py:2: PerformanceWarning: Adding/subtracting object-dtype array to DatetimeArray not vectorized.\n",
      "  training_set = (train_set - mu) / std\n",
      "C:\\Users\\santi\\AppData\\Local\\Temp\\ipykernel_4488\\3016182581.py:3: PerformanceWarning: Adding/subtracting object-dtype array to DatetimeArray not vectorized.\n",
      "  test_data_ = (test_set - mu) / std\n"
     ]
    }
   ],
   "source": [
    "# Normalize the data using the Gaussian distribution\n",
    "training_set = (train_set - mu) / std\n",
    "test_data_ = (test_set - mu) / std"
   ]
  },
  {
   "cell_type": "code",
   "execution_count": 31,
   "id": "1fda212f",
   "metadata": {},
   "outputs": [
    {
     "name": "stdout",
     "output_type": "stream",
     "text": [
      "CPU times: total: 39.2 s\n",
      "Wall time: 37.3 s\n"
     ]
    },
    {
     "data": {
      "text/plain": [
       "<keras.src.callbacks.history.History at 0x263495d2480>"
      ]
     },
     "execution_count": 31,
     "metadata": {},
     "output_type": "execute_result"
    }
   ],
   "source": [
    "%%time\n",
    "model.fit(train_set[cols], \n",
    "          train_set[\"Direction\"],\n",
    "          epochs=50, verbose=False,\n",
    "          validation_split=0.2, shuffle=False)"
   ]
  },
  {
   "cell_type": "code",
   "execution_count": 33,
   "id": "941efb80",
   "metadata": {},
   "outputs": [],
   "source": [
    "res = pd.DataFrame(model.history.history)"
   ]
  },
  {
   "cell_type": "code",
   "execution_count": 34,
   "id": "f99a303e",
   "metadata": {},
   "outputs": [
    {
     "data": {
      "text/plain": [
       "<Axes: title={'center': 'Accuracy'}>"
      ]
     },
     "execution_count": 34,
     "metadata": {},
     "output_type": "execute_result"
    },
    {
     "data": {
      "image/png": "[encoded data removed]",
      "text/plain": [
       "<Figure size 1200x500 with 1 Axes>"
      ]
     },
     "metadata": {},
     "output_type": "display_data"
    }
   ],
   "source": [
    "# Accuracy of the Model for Training and Validation Data\n",
    "res[[\"accuracy\", \"val_accuracy\"]].plot(title=\"Accuracy\", figsize=(12, 5), style=\"--\")"
   ]
  }
 ],
 "metadata": {
  "kernelspec": {
   "display_name": "base",
   "language": "python",
   "name": "python3"
  },
  "language_info": {
   "codemirror_mode": {
    "name": "ipython",
    "version": 3
   },
   "file_extension": ".py",
   "mimetype": "text/x-python",
   "name": "python",
   "nbconvert_exporter": "python",
   "pygments_lexer": "ipython3",
   "version": "3.12.7"
  }
 },
 "nbformat": 4,
 "nbformat_minor": 5
}
