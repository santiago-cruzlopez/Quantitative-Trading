{
 "cells": [
  {
   "cell_type": "markdown",
   "id": "04a06a0b",
   "metadata": {},
   "source": [
    "### Auto Bayesian Neural Networks\n",
    "\n",
    "\n",
    "autoBNN on EUR/USD"
   ]
  },
  {
   "cell_type": "code",
   "execution_count": 1,
   "id": "dd8ffcd2",
   "metadata": {},
   "outputs": [
    {
     "name": "stderr",
     "output_type": "stream",
     "text": [
      "2025-06-23 23:55:05.762391: E external/local_xla/xla/stream_executor/cuda/cuda_fft.cc:477] Unable to register cuFFT factory: Attempting to register factory for plugin cuFFT when one has already been registered\n",
      "WARNING: All log messages before absl::InitializeLog() is called are written to STDERR\n",
      "E0000 00:00:1750737305.784966   38712 cuda_dnn.cc:8310] Unable to register cuDNN factory: Attempting to register factory for plugin cuDNN when one has already been registered\n",
      "E0000 00:00:1750737305.794793   38712 cuda_blas.cc:1418] Unable to register cuBLAS factory: Attempting to register factory for plugin cuBLAS when one has already been registered\n"
     ]
    }
   ],
   "source": [
    "import yfinance as yf\n",
    "import numpy as np\n",
    "import pandas as pd\n",
    "import autobnn as ab\n",
    "import jax\n",
    "from sklearn.preprocessing import StandardScaler\n",
    "from sklearn.metrics import accuracy_score"
   ]
  },
  {
   "cell_type": "code",
   "execution_count": 2,
   "id": "9c316d22",
   "metadata": {},
   "outputs": [
    {
     "name": "stderr",
     "output_type": "stream",
     "text": [
      "/tmp/ipykernel_38712/3926671931.py:1: FutureWarning: YF.download() has changed argument auto_adjust default to True\n",
      "  eurusd = yf.download(\"EURUSD=X\", start=\"2005-01-01\", end=\"2025-06-22\")\n",
      "[*********************100%***********************]  1 of 1 completed\n"
     ]
    }
   ],
   "source": [
    "eurusd = yf.download(\"EURUSD=X\", start=\"2005-01-01\", end=\"2025-06-22\")"
   ]
  },
  {
   "cell_type": "code",
   "execution_count": 3,
   "id": "be81e501",
   "metadata": {},
   "outputs": [
    {
     "name": "stdout",
     "output_type": "stream",
     "text": [
      "Price          Close      High       Low      Open   Volume\n",
      "Ticker      EURUSD=X  EURUSD=X  EURUSD=X  EURUSD=X EURUSD=X\n",
      "Date                                                       \n",
      "2005-01-03  1.347001  1.358105  1.340195  1.358105        0\n",
      "2005-01-04  1.328198  1.349601  1.326102  1.347001        0\n",
      "2005-01-05  1.328004  1.330300  1.322297  1.328304        0\n",
      "2005-01-06  1.318305  1.327898  1.316396  1.327898        0\n",
      "2005-01-07  1.306097  1.324802  1.302999  1.318200        0\n"
     ]
    }
   ],
   "source": [
    "print(eurusd.head())"
   ]
  }
 ],
 "metadata": {
  "kernelspec": {
   "display_name": "VS-QTrading",
   "language": "python",
   "name": "python3"
  },
  "language_info": {
   "codemirror_mode": {
    "name": "ipython",
    "version": 3
   },
   "file_extension": ".py",
   "mimetype": "text/x-python",
   "name": "python",
   "nbconvert_exporter": "python",
   "pygments_lexer": "ipython3",
   "version": "3.10.13"
  }
 },
 "nbformat": 4,
 "nbformat_minor": 5
}
