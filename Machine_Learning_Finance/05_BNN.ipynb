{
 "cells": [
  {
   "cell_type": "markdown",
   "id": "04a06a0b",
   "metadata": {},
   "source": [
    "autoBNN on EUR/USD\n",
    "\n",
    "https://youtu.be/UVagtB_Nfro?si=BEbLyoitn_BdWSc2"
   ]
  },
  {
   "cell_type": "code",
   "execution_count": null,
   "id": "dd8ffcd2",
   "metadata": {
    "vscode": {
     "languageId": "plaintext"
    }
   },
   "outputs": [],
   "source": [
    "import pandas as pd\n",
    "import yfinance"
   ]
  }
 ],
 "metadata": {
  "language_info": {
   "name": "python"
  }
 },
 "nbformat": 4,
 "nbformat_minor": 5
}
