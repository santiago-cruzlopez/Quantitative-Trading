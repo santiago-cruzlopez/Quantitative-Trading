{
 "cells": [
  {
   "cell_type": "markdown",
   "id": "04a06a0b",
   "metadata": {},
   "source": [
    "### Auto Bayesian Neural Networks\n",
    "\n",
    "\n",
    "autoBNN on EUR/USD"
   ]
  },
  {
   "cell_type": "code",
   "execution_count": 33,
   "id": "dd8ffcd2",
   "metadata": {},
   "outputs": [],
   "source": [
    "import yfinance as yf\n",
    "import numpy as np\n",
    "import pandas as pd\n",
    "import autobnn as ab\n",
    "import jax\n",
    "from sklearn.preprocessing import StandardScaler\n",
    "from sklearn.metrics import accuracy_score"
   ]
  },
  {
   "cell_type": "code",
   "execution_count": 34,
   "id": "9c316d22",
   "metadata": {},
   "outputs": [
    {
     "name": "stderr",
     "output_type": "stream",
     "text": [
      "/tmp/ipykernel_256723/2302385838.py:2: FutureWarning: YF.download() has changed argument auto_adjust default to True\n",
      "  eurusd = yf.download(\"EURUSD=X\", start=\"2005-01-01\", end=\"2025-06-22\")\n",
      "[*********************100%***********************]  1 of 1 completed\n"
     ]
    }
   ],
   "source": [
    "# Download EUR/USD data from Yahoo Finance\n",
    "eurusd = yf.download(\"EURUSD=X\", start=\"2005-01-01\", end=\"2025-06-22\")\n",
    "eurusd = eurusd.reset_index()"
   ]
  },
  {
   "cell_type": "code",
   "execution_count": 35,
   "id": "be81e501",
   "metadata": {},
   "outputs": [],
   "source": [
    "# Convert the index to a datetime format if necessary\n",
    "eurusd['Date'] = pd.to_datetime(eurusd['Date'])"
   ]
  },
  {
   "cell_type": "code",
   "execution_count": 37,
   "id": "ac7bdb6f",
   "metadata": {},
   "outputs": [],
   "source": [
    "# Drop the 'Volume' column if it contains only zeros\n",
    "if 'Volume' in eurusd.columns:\n",
    "    eurusd.drop(columns=['Volume'], inplace=True)"
   ]
  },
  {
   "cell_type": "code",
   "execution_count": 38,
   "id": "1b6ec699",
   "metadata": {},
   "outputs": [],
   "source": [
    "def label_data(df, lookahead=5, threshold=0.002):\n",
    "    \"\"\"\n",
    "    Labels each candle based on future closing price percentage change.\n",
    "    Parameters:\n",
    "    -----------\n",
    "    df : pd.DataFrame\n",
    "        Data containing at least a 'Close' column.\n",
    "    lookahead : int, optional\n",
    "        Number of candles to look ahead (default is 5).\n",
    "    threshold : float, optional\n",
    "        Percentage change threshold for classification (default is 0.002 or 0.2%).\n",
    "    \"\"\"\n",
    "    \n",
    "    # Compute future percentage change in closing price\n",
    "    df[\"future_return\"] = df[\"Close\"].pct_change(lookahead).shift(-lookahead)\n",
    "    # Assign labels\n",
    "    df[\"label\"] = 0  # Default: Neutral\n",
    "    df.loc[df[\"future_return\"] > threshold, \"label\"] = 2  # Up\n",
    "    df.loc[df[\"future_return\"] < -threshold, \"label\"] = 1  # Down\n",
    "    # Drop future_return column (not needed in final output)\n",
    "    df.drop(columns=[\"future_return\"], inplace=True)"
   ]
  },
  {
   "cell_type": "code",
   "execution_count": 39,
   "id": "996a25a1",
   "metadata": {},
   "outputs": [
    {
     "name": "stderr",
     "output_type": "stream",
     "text": [
      "/tmp/ipykernel_256723/783438040.py:21: PerformanceWarning: dropping on a non-lexsorted multi-index without a level parameter may impact performance.\n",
      "  df.drop(columns=[\"future_return\"], inplace=True)\n"
     ]
    }
   ],
   "source": [
    "label_data(eurusd)"
   ]
  },
  {
   "cell_type": "code",
   "execution_count": 40,
   "id": "01cc6abc",
   "metadata": {},
   "outputs": [
    {
     "name": "stdout",
     "output_type": "stream",
     "text": [
      "Price        Date     Close      High       Low      Open label\n",
      "Ticker             EURUSD=X  EURUSD=X  EURUSD=X  EURUSD=X      \n",
      "0      2005-01-03  1.347001  1.358105  1.340195  1.358105     1\n",
      "1      2005-01-04  1.328198  1.349601  1.326102  1.347001     1\n",
      "3      2005-01-06  1.318305  1.327898  1.316396  1.327898     2\n",
      "4      2005-01-07  1.306097  1.324802  1.302999  1.318200     2\n",
      "5      2005-01-10  1.310994  1.311992  1.306404  1.307600     1\n",
      "6      2005-01-11  1.311699  1.317107  1.310496  1.311407     1\n",
      "7      2005-01-12  1.325592  1.329098  1.308695  1.311407     1\n",
      "8      2005-01-13  1.321109  1.326594  1.320306  1.325908     1\n",
      "9      2005-01-14  1.309895  1.321196  1.306797  1.321196     1\n",
      "11     2005-01-18  1.301795  1.307292  1.300306  1.304904     1\n"
     ]
    }
   ],
   "source": [
    "print(eurusd[eurusd[\"label\"] != 0].head(10))"
   ]
  },
  {
   "cell_type": "code",
   "execution_count": 41,
   "id": "8a448602",
   "metadata": {},
   "outputs": [],
   "source": [
    "def create_sliding_window_dataset(df, window_size=50, lookahead=5, threshold=0.002):\n",
    "    if \"Close\" not in df.columns or \"label\" not in df.columns:\n",
    "        raise ValueError(\"DataFrame must contain 'Close' and 'label' columns.\")\n",
    "    label_data(df=df, lookahead=lookahead, threshold=threshold)\n",
    "    close_prices = df[\"Close\"].values\n",
    "    labels = df[\"label\"].values\n",
    "    n_samples = len(df) - window_size\n",
    "    if n_samples <= 0:\n",
    "        raise ValueError(\"Not enough data to create even one window.\"\n",
    "                         \"Increase your dataset or decrease window_size.\")\n",
    "    X_list = []\n",
    "    y_list = []\n",
    "    for i in range(n_samples):\n",
    "        window_data = close_prices[i : i + window_size]\n",
    "        last_candle_label = labels[i + window_size - 1]  # label of the last candle in window_size\n",
    "        X_list.append(window_data)\n",
    "        y_list.append(last_candle_label)\n",
    "    X = np.array(X_list)\n",
    "    y = np.array(y_list)\n",
    "    return X, y"
   ]
  },
  {
   "cell_type": "code",
   "execution_count": 42,
   "id": "6afade2b",
   "metadata": {},
   "outputs": [
    {
     "name": "stdout",
     "output_type": "stream",
     "text": [
      "Shape of X: (5259, 50, 1)\n",
      "Shape of y: (5259,)\n"
     ]
    },
    {
     "name": "stderr",
     "output_type": "stream",
     "text": [
      "/tmp/ipykernel_256723/783438040.py:21: PerformanceWarning: dropping on a non-lexsorted multi-index without a level parameter may impact performance.\n",
      "  df.drop(columns=[\"future_return\"], inplace=True)\n"
     ]
    }
   ],
   "source": [
    "# Create sliding window dataset\n",
    "X, y = create_sliding_window_dataset(eurusd, window_size=50)\n",
    "\n",
    "# Display the shapes of the resulting datasets\n",
    "print(\"Shape of X:\", X.shape)\n",
    "print(\"Shape of y:\", y.shape)"
   ]
  },
  {
   "cell_type": "code",
   "execution_count": 43,
   "id": "b10456a1",
   "metadata": {},
   "outputs": [],
   "source": [
    "def walk_forward_autobnn_ovr(\n",
    "    df, \n",
    "    window_size=100,\n",
    "    train_size=50,\n",
    "    step_size=5,\n",
    "    threshold=0.002,\n",
    "    n_classes=3\n",
    "    ):\n",
    "    # 1. Build your dataset\n",
    "    X, y = create_sliding_window_dataset(df=df, window_size=window_size, threshold=threshold)\n",
    "    \n",
    "    # Ensure X is 2D\n",
    "    if X.ndim == 1:\n",
    "        X = X.reshape(-1, 1)\n",
    "    elif X.ndim > 2:\n",
    "        X = X.reshape(X.shape[0], -1)\n",
    "    \n",
    "    n_total = len(X)\n",
    "    if n_total < train_size + 1:\n",
    "        raise ValueError(\"Not enough samples for walk-forward analysis.\")\n",
    "    \n",
    "    accuracies = []\n",
    "    \n",
    "    # 2. Walk-forward loop\n",
    "    for i in range(0, n_total - train_size, step_size):\n",
    "        X_train = X[i : i + train_size]\n",
    "        y_train = y[i : i + train_size]\n",
    "        \n",
    "        # Ensure X_train is 2D\n",
    "        if X_train.ndim == 1:\n",
    "            X_train = X_train.reshape(-1, 1)\n",
    "        elif X_train.ndim > 2:\n",
    "            X_train = X_train.reshape(X_train.shape[0], -1)\n",
    "        \n",
    "        test_index = i + train_size\n",
    "        if test_index >= n_total:\n",
    "            break\n",
    "            \n",
    "        X_test = X[test_index : test_index + 1]\n",
    "        y_test = y[test_index : test_index + 1]\n",
    "        \n",
    "        # Ensure X_test is 2D\n",
    "        if X_test.ndim == 1:\n",
    "            X_test = X_test.reshape(-1, 1)\n",
    "        elif X_test.ndim > 2:\n",
    "            X_test = X_test.reshape(X_test.shape[0], -1)\n",
    "        \n",
    "        print(f\"Training shape: {X_train.shape}, Test shape: {X_test.shape}\")\n",
    "        \n",
    "        # Scale\n",
    "        scaler = StandardScaler()\n",
    "        X_train_scaled = scaler.fit_transform(X_train)\n",
    "        X_test_scaled = scaler.transform(X_test)\n",
    "\n",
    "        # 3. Train one binary model per class\n",
    "        estimators = []\n",
    "        for c in range(n_classes):\n",
    "            # Make binary labels: 1 if y == c, else 0\n",
    "            y_train_c = (y_train == c).astype(int)\n",
    "            model_c = ab.operators.Add(\n",
    "                bnns=(\n",
    "                    ab.kernels.PeriodicBNN(width=20, period=12.0),\n",
    "                    ab.kernels.LinearBNN(width=20),\n",
    "                    ab.kernels.MaternBNN(width=20),\n",
    "                )\n",
    "            )\n",
    "            estimator_c = ab.estimators.AutoBnnMapEstimator(\n",
    "                model_c,\n",
    "                likelihood_model=\"normal_likelihood_logistic_noise\",  \n",
    "                seed=jax.random.PRNGKey(42),\n",
    "                periods=[12],\n",
    "            )\n",
    "\n",
    "            estimator_c.fit(X_train_scaled, y_train_c)\n",
    "            estimators.append(estimator_c)\n",
    "\n",
    "        # 4. Predict probabilities for each class on the single test sample\n",
    "        class_probs = []\n",
    "        for c in range(n_classes):\n",
    "            y_pred_c = estimators[c].predict(X_test_scaled)\n",
    "            \n",
    "            if y_pred_c.ndim == 2:\n",
    "                logit = y_pred_c[0, 0]  # first row, mean col\n",
    "            else:\n",
    "                logit = y_pred_c[0]  # shape (1,) => just the mean\n",
    "            \n",
    "            prob_c = 1.0 / (1.0 + np.exp(-logit))\n",
    "            class_probs.append(prob_c)\n",
    "\n",
    "        # 5. Pick the class with the highest probability\n",
    "        y_pred_class = np.argmax(class_probs)\n",
    "\n",
    "        # 6. Single-sample accuracy (0 or 1)\n",
    "        acc = accuracy_score(y_test, [y_pred_class])\n",
    "        accuracies.append(acc)\n",
    "    \n",
    "    return accuracies\n"
   ]
  },
  {
   "cell_type": "code",
   "execution_count": 45,
   "id": "2b08d364",
   "metadata": {},
   "outputs": [
    {
     "name": "stderr",
     "output_type": "stream",
     "text": [
      "/tmp/ipykernel_256723/783438040.py:21: PerformanceWarning: dropping on a non-lexsorted multi-index without a level parameter may impact performance.\n",
      "  df.drop(columns=[\"future_return\"], inplace=True)\n"
     ]
    },
    {
     "name": "stdout",
     "output_type": "stream",
     "text": [
      "Training shape: (20, 40), Test shape: (1, 40)\n"
     ]
    },
    {
     "ename": "AttributeError",
     "evalue": "module 'jax.experimental.shard_map' has no attribute 'register_check'",
     "output_type": "error",
     "traceback": [
      "\u001b[0;31m---------------------------------------------------------------------------\u001b[0m",
      "\u001b[0;31mAttributeError\u001b[0m                            Traceback (most recent call last)",
      "Cell \u001b[0;32mIn[45], line 2\u001b[0m\n\u001b[1;32m      1\u001b[0m dfsample \u001b[38;5;241m=\u001b[39m eurusd[:\u001b[38;5;241m1000\u001b[39m]\u001b[38;5;241m.\u001b[39mcopy()\n\u001b[0;32m----> 2\u001b[0m results \u001b[38;5;241m=\u001b[39m \u001b[43mwalk_forward_autobnn_ovr\u001b[49m\u001b[43m(\u001b[49m\n\u001b[1;32m      3\u001b[0m \u001b[43m    \u001b[49m\u001b[43mdf\u001b[49m\u001b[38;5;241;43m=\u001b[39;49m\u001b[43mdfsample\u001b[49m\u001b[43m,\u001b[49m\n\u001b[1;32m      4\u001b[0m \u001b[43m    \u001b[49m\u001b[43mwindow_size\u001b[49m\u001b[38;5;241;43m=\u001b[39;49m\u001b[38;5;241;43m40\u001b[39;49m\u001b[43m,\u001b[49m\n\u001b[1;32m      5\u001b[0m \u001b[43m    \u001b[49m\u001b[43mtrain_size\u001b[49m\u001b[38;5;241;43m=\u001b[39;49m\u001b[38;5;241;43m20\u001b[39;49m\u001b[43m,\u001b[49m\n\u001b[1;32m      6\u001b[0m \u001b[43m    \u001b[49m\u001b[43mstep_size\u001b[49m\u001b[38;5;241;43m=\u001b[39;49m\u001b[38;5;241;43m5\u001b[39;49m\u001b[43m,\u001b[49m\n\u001b[1;32m      7\u001b[0m \u001b[43m    \u001b[49m\u001b[43mthreshold\u001b[49m\u001b[38;5;241;43m=\u001b[39;49m\u001b[38;5;241;43m0.002\u001b[39;49m\u001b[43m,\u001b[49m\n\u001b[1;32m      8\u001b[0m \u001b[43m    \u001b[49m\u001b[43mn_classes\u001b[49m\u001b[38;5;241;43m=\u001b[39;49m\u001b[38;5;241;43m3\u001b[39;49m\n\u001b[1;32m      9\u001b[0m \u001b[43m)\u001b[49m\n",
      "Cell \u001b[0;32mIn[43], line 74\u001b[0m, in \u001b[0;36mwalk_forward_autobnn_ovr\u001b[0;34m(df, window_size, train_size, step_size, threshold, n_classes)\u001b[0m\n\u001b[1;32m     60\u001b[0m     model_c \u001b[38;5;241m=\u001b[39m ab\u001b[38;5;241m.\u001b[39moperators\u001b[38;5;241m.\u001b[39mAdd(\n\u001b[1;32m     61\u001b[0m         bnns\u001b[38;5;241m=\u001b[39m(\n\u001b[1;32m     62\u001b[0m             ab\u001b[38;5;241m.\u001b[39mkernels\u001b[38;5;241m.\u001b[39mPeriodicBNN(width\u001b[38;5;241m=\u001b[39m\u001b[38;5;241m20\u001b[39m, period\u001b[38;5;241m=\u001b[39m\u001b[38;5;241m12.0\u001b[39m),\n\u001b[0;32m   (...)\u001b[0m\n\u001b[1;32m     65\u001b[0m         )\n\u001b[1;32m     66\u001b[0m     )\n\u001b[1;32m     67\u001b[0m     estimator_c \u001b[38;5;241m=\u001b[39m ab\u001b[38;5;241m.\u001b[39mestimators\u001b[38;5;241m.\u001b[39mAutoBnnMapEstimator(\n\u001b[1;32m     68\u001b[0m         model_c,\n\u001b[1;32m     69\u001b[0m         likelihood_model\u001b[38;5;241m=\u001b[39m\u001b[38;5;124m\"\u001b[39m\u001b[38;5;124mnormal_likelihood_logistic_noise\u001b[39m\u001b[38;5;124m\"\u001b[39m,  \n\u001b[1;32m     70\u001b[0m         seed\u001b[38;5;241m=\u001b[39mjax\u001b[38;5;241m.\u001b[39mrandom\u001b[38;5;241m.\u001b[39mPRNGKey(\u001b[38;5;241m42\u001b[39m),\n\u001b[1;32m     71\u001b[0m         periods\u001b[38;5;241m=\u001b[39m[\u001b[38;5;241m12\u001b[39m],\n\u001b[1;32m     72\u001b[0m     )\n\u001b[0;32m---> 74\u001b[0m     \u001b[43mestimator_c\u001b[49m\u001b[38;5;241;43m.\u001b[39;49m\u001b[43mfit\u001b[49m\u001b[43m(\u001b[49m\u001b[43mX_train_scaled\u001b[49m\u001b[43m,\u001b[49m\u001b[43m \u001b[49m\u001b[43my_train_c\u001b[49m\u001b[43m)\u001b[49m\n\u001b[1;32m     75\u001b[0m     estimators\u001b[38;5;241m.\u001b[39mappend(estimator_c)\n\u001b[1;32m     77\u001b[0m \u001b[38;5;66;03m# 4. Predict probabilities for each class on the single test sample\u001b[39;00m\n",
      "File \u001b[0;32m~/anaconda3/envs/VS-QTrading/lib/python3.10/site-packages/autobnn/estimators.py:101\u001b[0m, in \u001b[0;36m_AutoBnnEstimator.fit\u001b[0;34m(self, X, y)\u001b[0m\n\u001b[1;32m     93\u001b[0m \u001b[38;5;28mself\u001b[39m\u001b[38;5;241m.\u001b[39mnet_ \u001b[38;5;241m=\u001b[39m models\u001b[38;5;241m.\u001b[39mmake_model(\n\u001b[1;32m     94\u001b[0m     model_name\u001b[38;5;241m=\u001b[39m\u001b[38;5;28mself\u001b[39m\u001b[38;5;241m.\u001b[39mmodel_or_name,\n\u001b[1;32m     95\u001b[0m     likelihood_model\u001b[38;5;241m=\u001b[39m\u001b[38;5;28mself\u001b[39m\u001b[38;5;241m.\u001b[39mlikelihood_,\n\u001b[0;32m   (...)\u001b[0m\n\u001b[1;32m     98\u001b[0m     periods\u001b[38;5;241m=\u001b[39m\u001b[38;5;28mself\u001b[39m\u001b[38;5;241m.\u001b[39mperiods,\n\u001b[1;32m     99\u001b[0m )\n\u001b[1;32m    100\u001b[0m \u001b[38;5;28mself\u001b[39m\u001b[38;5;241m.\u001b[39mfit_seed_, \u001b[38;5;28mself\u001b[39m\u001b[38;5;241m.\u001b[39mpredict_quantiles_seed_ \u001b[38;5;241m=\u001b[39m jax\u001b[38;5;241m.\u001b[39mrandom\u001b[38;5;241m.\u001b[39msplit(\u001b[38;5;28mself\u001b[39m\u001b[38;5;241m.\u001b[39mseed)\n\u001b[0;32m--> 101\u001b[0m \u001b[38;5;28mself\u001b[39m\u001b[38;5;241m.\u001b[39mparams_, \u001b[38;5;28mself\u001b[39m\u001b[38;5;241m.\u001b[39mdiagnostics_ \u001b[38;5;241m=\u001b[39m \u001b[38;5;28;43mself\u001b[39;49m\u001b[38;5;241;43m.\u001b[39;49m\u001b[43m_fit\u001b[49m\u001b[43m(\u001b[49m\n\u001b[1;32m    102\u001b[0m \u001b[43m    \u001b[49m\u001b[43mnet\u001b[49m\u001b[38;5;241;43m=\u001b[39;49m\u001b[38;5;28;43mself\u001b[39;49m\u001b[38;5;241;43m.\u001b[39;49m\u001b[43mnet_\u001b[49m\u001b[43m,\u001b[49m\u001b[43m \u001b[49m\u001b[43mseed\u001b[49m\u001b[38;5;241;43m=\u001b[39;49m\u001b[38;5;28;43mself\u001b[39;49m\u001b[38;5;241;43m.\u001b[39;49m\u001b[43mseed\u001b[49m\u001b[43m,\u001b[49m\u001b[43m \u001b[49m\u001b[43mx_train\u001b[49m\u001b[38;5;241;43m=\u001b[39;49m\u001b[43mX\u001b[49m\u001b[43m,\u001b[49m\u001b[43m \u001b[49m\u001b[43my_train\u001b[49m\u001b[38;5;241;43m=\u001b[39;49m\u001b[43my\u001b[49m\u001b[43m,\u001b[49m\u001b[43m \u001b[49m\u001b[38;5;241;43m*\u001b[39;49m\u001b[38;5;241;43m*\u001b[39;49m\u001b[38;5;28;43mself\u001b[39;49m\u001b[38;5;241;43m.\u001b[39;49m\u001b[43mkwargs\u001b[49m\n\u001b[1;32m    103\u001b[0m \u001b[43m\u001b[49m\u001b[43m)\u001b[49m\n\u001b[1;32m    104\u001b[0m \u001b[38;5;28;01mreturn\u001b[39;00m \u001b[38;5;28mself\u001b[39m\n",
      "File \u001b[0;32m~/anaconda3/envs/VS-QTrading/lib/python3.10/contextlib.py:79\u001b[0m, in \u001b[0;36mContextDecorator.__call__.<locals>.inner\u001b[0;34m(*args, **kwds)\u001b[0m\n\u001b[1;32m     76\u001b[0m \u001b[38;5;129m@wraps\u001b[39m(func)\n\u001b[1;32m     77\u001b[0m \u001b[38;5;28;01mdef\u001b[39;00m\u001b[38;5;250m \u001b[39m\u001b[38;5;21minner\u001b[39m(\u001b[38;5;241m*\u001b[39margs, \u001b[38;5;241m*\u001b[39m\u001b[38;5;241m*\u001b[39mkwds):\n\u001b[1;32m     78\u001b[0m     \u001b[38;5;28;01mwith\u001b[39;00m \u001b[38;5;28mself\u001b[39m\u001b[38;5;241m.\u001b[39m_recreate_cm():\n\u001b[0;32m---> 79\u001b[0m         \u001b[38;5;28;01mreturn\u001b[39;00m \u001b[43mfunc\u001b[49m\u001b[43m(\u001b[49m\u001b[38;5;241;43m*\u001b[39;49m\u001b[43margs\u001b[49m\u001b[43m,\u001b[49m\u001b[43m \u001b[49m\u001b[38;5;241;43m*\u001b[39;49m\u001b[38;5;241;43m*\u001b[39;49m\u001b[43mkwds\u001b[49m\u001b[43m)\u001b[49m\n",
      "File \u001b[0;32m~/anaconda3/envs/VS-QTrading/lib/python3.10/site-packages/autobnn/training_util.py:156\u001b[0m, in \u001b[0;36mfit_bnn_map\u001b[0;34m(net, seed, x_train, y_train, num_particles, **optimizer_kwargs)\u001b[0m\n\u001b[1;32m    154\u001b[0m optimizer_kwargs[\u001b[38;5;124m'\u001b[39m\u001b[38;5;124mnum_particles\u001b[39m\u001b[38;5;124m'\u001b[39m] \u001b[38;5;241m=\u001b[39m num_particles\n\u001b[1;32m    155\u001b[0m model_seed, optimization_seed \u001b[38;5;241m=\u001b[39m jax\u001b[38;5;241m.\u001b[39mrandom\u001b[38;5;241m.\u001b[39msplit(seed)\n\u001b[0;32m--> 156\u001b[0m model \u001b[38;5;241m=\u001b[39m \u001b[43m_make_bayeux_model\u001b[49m\u001b[43m(\u001b[49m\u001b[43mnet\u001b[49m\u001b[43m,\u001b[49m\u001b[43m \u001b[49m\u001b[43mmodel_seed\u001b[49m\u001b[43m,\u001b[49m\u001b[43m \u001b[49m\u001b[43mx_train\u001b[49m\u001b[43m,\u001b[49m\u001b[43m \u001b[49m\u001b[43my_train\u001b[49m\u001b[43m,\u001b[49m\u001b[43m \u001b[49m\u001b[43mnum_particles\u001b[49m\u001b[43m)\u001b[49m\n\u001b[1;32m    157\u001b[0m res \u001b[38;5;241m=\u001b[39m model\u001b[38;5;241m.\u001b[39moptimize\u001b[38;5;241m.\u001b[39moptax_adam(seed\u001b[38;5;241m=\u001b[39moptimization_seed, \u001b[38;5;241m*\u001b[39m\u001b[38;5;241m*\u001b[39moptimizer_kwargs)  \u001b[38;5;66;03m# pytype: disable=attribute-error\u001b[39;00m\n\u001b[1;32m    158\u001b[0m params \u001b[38;5;241m=\u001b[39m res\u001b[38;5;241m.\u001b[39mparams\n",
      "File \u001b[0;32m~/anaconda3/envs/VS-QTrading/lib/python3.10/site-packages/autobnn/training_util.py:107\u001b[0m, in \u001b[0;36m_make_bayeux_model\u001b[0;34m(net, seed, x_train, y_train, num_particles, for_vi)\u001b[0m\n\u001b[1;32m    103\u001b[0m \u001b[38;5;250m\u001b[39m\u001b[38;5;124;03m\"\"\"Use a MAP estimator to fit a BNN.\"\"\"\u001b[39;00m\n\u001b[1;32m    104\u001b[0m \u001b[38;5;66;03m# We can't import bayeux at the file level because it would create a\u001b[39;00m\n\u001b[1;32m    105\u001b[0m \u001b[38;5;66;03m# circular dependency:  autobnn imports bayeux imports tfp:jax\u001b[39;00m\n\u001b[1;32m    106\u001b[0m \u001b[38;5;66;03m# which in turn imports (through __init__.py files) autobnn.\u001b[39;00m\n\u001b[0;32m--> 107\u001b[0m \u001b[38;5;28;01mimport\u001b[39;00m\u001b[38;5;250m \u001b[39m\u001b[38;5;21;01mbayeux\u001b[39;00m\u001b[38;5;250m \u001b[39m\u001b[38;5;28;01mas\u001b[39;00m\u001b[38;5;250m \u001b[39m\u001b[38;5;21;01mbx\u001b[39;00m  \u001b[38;5;66;03m# pylint:disable=g-bad-import-order,g-import-not-at-top\u001b[39;00m\n\u001b[1;32m    109\u001b[0m transform, inverse_transform, ildj \u001b[38;5;241m=\u001b[39m util\u001b[38;5;241m.\u001b[39mmake_transforms(net)\n\u001b[1;32m    111\u001b[0m \u001b[38;5;129m@jax\u001b[39m\u001b[38;5;241m.\u001b[39mjit\n\u001b[1;32m    112\u001b[0m \u001b[38;5;28;01mdef\u001b[39;00m\u001b[38;5;250m \u001b[39m\u001b[38;5;21m_init\u001b[39m(rand_seed):\n",
      "File \u001b[0;32m~/anaconda3/envs/VS-QTrading/lib/python3.10/site-packages/bayeux/__init__.py:24\u001b[0m\n\u001b[1;32m     19\u001b[0m __version__ \u001b[38;5;241m=\u001b[39m \u001b[38;5;124m'\u001b[39m\u001b[38;5;124m0.1.15\u001b[39m\u001b[38;5;124m'\u001b[39m\n\u001b[1;32m     21\u001b[0m \u001b[38;5;66;03m# Note: import <name> as <name> is required for names to be exported.\u001b[39;00m\n\u001b[1;32m     22\u001b[0m \u001b[38;5;66;03m# See PEP 484 & https://github.com/google/jax/issues/7570\u001b[39;00m\n\u001b[1;32m     23\u001b[0m \u001b[38;5;66;03m# pylint: disable=useless-import-alias\u001b[39;00m\n\u001b[0;32m---> 24\u001b[0m \u001b[38;5;28;01mfrom\u001b[39;00m\u001b[38;5;250m \u001b[39m\u001b[38;5;21;01mbayeux\u001b[39;00m\u001b[38;5;250m \u001b[39m\u001b[38;5;28;01mimport\u001b[39;00m mcmc \u001b[38;5;28;01mas\u001b[39;00m mcmc\n\u001b[1;32m     25\u001b[0m \u001b[38;5;28;01mfrom\u001b[39;00m\u001b[38;5;250m \u001b[39m\u001b[38;5;21;01mbayeux\u001b[39;00m\u001b[38;5;250m \u001b[39m\u001b[38;5;28;01mimport\u001b[39;00m optimize \u001b[38;5;28;01mas\u001b[39;00m optimize\n\u001b[1;32m     26\u001b[0m \u001b[38;5;28;01mfrom\u001b[39;00m\u001b[38;5;250m \u001b[39m\u001b[38;5;21;01mbayeux\u001b[39;00m\u001b[38;5;21;01m.\u001b[39;00m\u001b[38;5;21;01m_src\u001b[39;00m\u001b[38;5;250m \u001b[39m\u001b[38;5;28;01mimport\u001b[39;00m debug \u001b[38;5;28;01mas\u001b[39;00m debug\n",
      "File \u001b[0;32m~/anaconda3/envs/VS-QTrading/lib/python3.10/site-packages/bayeux/mcmc/__init__.py:22\u001b[0m\n\u001b[1;32m     19\u001b[0m \u001b[38;5;28;01mimport\u001b[39;00m\u001b[38;5;250m \u001b[39m\u001b[38;5;21;01mimportlib\u001b[39;00m\n\u001b[1;32m     21\u001b[0m \u001b[38;5;66;03m# TFP-on-JAX always installed\u001b[39;00m\n\u001b[0;32m---> 22\u001b[0m \u001b[38;5;28;01mfrom\u001b[39;00m\u001b[38;5;250m \u001b[39m\u001b[38;5;21;01mbayeux\u001b[39;00m\u001b[38;5;21;01m.\u001b[39;00m\u001b[38;5;21;01m_src\u001b[39;00m\u001b[38;5;21;01m.\u001b[39;00m\u001b[38;5;21;01mmcmc\u001b[39;00m\u001b[38;5;21;01m.\u001b[39;00m\u001b[38;5;21;01mtfp\u001b[39;00m\u001b[38;5;250m \u001b[39m\u001b[38;5;28;01mimport\u001b[39;00m HMC \u001b[38;5;28;01mas\u001b[39;00m HMC_TFP\n\u001b[1;32m     23\u001b[0m \u001b[38;5;28;01mfrom\u001b[39;00m\u001b[38;5;250m \u001b[39m\u001b[38;5;21;01mbayeux\u001b[39;00m\u001b[38;5;21;01m.\u001b[39;00m\u001b[38;5;21;01m_src\u001b[39;00m\u001b[38;5;21;01m.\u001b[39;00m\u001b[38;5;21;01mmcmc\u001b[39;00m\u001b[38;5;21;01m.\u001b[39;00m\u001b[38;5;21;01mtfp\u001b[39;00m\u001b[38;5;250m \u001b[39m\u001b[38;5;28;01mimport\u001b[39;00m NUTS \u001b[38;5;28;01mas\u001b[39;00m NUTS_TFP\n\u001b[1;32m     24\u001b[0m \u001b[38;5;28;01mfrom\u001b[39;00m\u001b[38;5;250m \u001b[39m\u001b[38;5;21;01mbayeux\u001b[39;00m\u001b[38;5;21;01m.\u001b[39;00m\u001b[38;5;21;01m_src\u001b[39;00m\u001b[38;5;21;01m.\u001b[39;00m\u001b[38;5;21;01mmcmc\u001b[39;00m\u001b[38;5;21;01m.\u001b[39;00m\u001b[38;5;21;01mtfp\u001b[39;00m\u001b[38;5;250m \u001b[39m\u001b[38;5;28;01mimport\u001b[39;00m SnaperHMC \u001b[38;5;28;01mas\u001b[39;00m SNAPER_HMC_TFP\n",
      "File \u001b[0;32m~/anaconda3/envs/VS-QTrading/lib/python3.10/site-packages/bayeux/_src/mcmc/tfp.py:32\u001b[0m\n\u001b[1;32m     29\u001b[0m \u001b[38;5;124;03m\"\"\"TFP specific code.\"\"\"\u001b[39;00m\n\u001b[1;32m     31\u001b[0m \u001b[38;5;28;01mimport\u001b[39;00m\u001b[38;5;250m \u001b[39m\u001b[38;5;21;01marviz\u001b[39;00m\u001b[38;5;250m \u001b[39m\u001b[38;5;28;01mas\u001b[39;00m\u001b[38;5;250m \u001b[39m\u001b[38;5;21;01maz\u001b[39;00m\n\u001b[0;32m---> 32\u001b[0m \u001b[38;5;28;01mfrom\u001b[39;00m\u001b[38;5;250m \u001b[39m\u001b[38;5;21;01mbayeux\u001b[39;00m\u001b[38;5;21;01m.\u001b[39;00m\u001b[38;5;21;01m_src\u001b[39;00m\u001b[38;5;250m \u001b[39m\u001b[38;5;28;01mimport\u001b[39;00m shared\n\u001b[1;32m     33\u001b[0m \u001b[38;5;28;01mimport\u001b[39;00m\u001b[38;5;250m \u001b[39m\u001b[38;5;21;01mjax\u001b[39;00m\n\u001b[1;32m     34\u001b[0m \u001b[38;5;28;01mimport\u001b[39;00m\u001b[38;5;250m \u001b[39m\u001b[38;5;21;01mjax\u001b[39;00m\u001b[38;5;21;01m.\u001b[39;00m\u001b[38;5;21;01mnumpy\u001b[39;00m\u001b[38;5;250m \u001b[39m\u001b[38;5;28;01mas\u001b[39;00m\u001b[38;5;250m \u001b[39m\u001b[38;5;21;01mjnp\u001b[39;00m\n",
      "File \u001b[0;32m~/anaconda3/envs/VS-QTrading/lib/python3.10/site-packages/bayeux/_src/shared.py:27\u001b[0m\n\u001b[1;32m     25\u001b[0m \u001b[38;5;28;01mimport\u001b[39;00m\u001b[38;5;250m \u001b[39m\u001b[38;5;21;01mjax\u001b[39;00m\n\u001b[1;32m     26\u001b[0m \u001b[38;5;28;01mimport\u001b[39;00m\u001b[38;5;250m \u001b[39m\u001b[38;5;21;01mjax\u001b[39;00m\u001b[38;5;21;01m.\u001b[39;00m\u001b[38;5;21;01mnumpy\u001b[39;00m\u001b[38;5;250m \u001b[39m\u001b[38;5;28;01mas\u001b[39;00m\u001b[38;5;250m \u001b[39m\u001b[38;5;21;01mjnp\u001b[39;00m\n\u001b[0;32m---> 27\u001b[0m \u001b[38;5;28;01mimport\u001b[39;00m\u001b[38;5;250m \u001b[39m\u001b[38;5;21;01moryx\u001b[39;00m\n\u001b[1;32m     30\u001b[0m \u001b[38;5;28;01mdef\u001b[39;00m\u001b[38;5;250m \u001b[39m\u001b[38;5;21mmap_fn\u001b[39m(chain_method, fn):\n\u001b[1;32m     31\u001b[0m   \u001b[38;5;28;01mif\u001b[39;00m chain_method \u001b[38;5;241m==\u001b[39m \u001b[38;5;124m\"\u001b[39m\u001b[38;5;124mparallel\u001b[39m\u001b[38;5;124m\"\u001b[39m:\n",
      "File \u001b[0;32m~/anaconda3/envs/VS-QTrading/lib/python3.10/site-packages/oryx/__init__.py:17\u001b[0m\n\u001b[1;32m     15\u001b[0m \u001b[38;5;124;03m\"\"\"Oryx imports.\"\"\"\u001b[39;00m\n\u001b[1;32m     16\u001b[0m \u001b[38;5;28;01mfrom\u001b[39;00m\u001b[38;5;250m \u001b[39m\u001b[38;5;21;01moryx\u001b[39;00m\u001b[38;5;250m \u001b[39m\u001b[38;5;28;01mimport\u001b[39;00m bijectors\n\u001b[0;32m---> 17\u001b[0m \u001b[38;5;28;01mfrom\u001b[39;00m\u001b[38;5;250m \u001b[39m\u001b[38;5;21;01moryx\u001b[39;00m\u001b[38;5;250m \u001b[39m\u001b[38;5;28;01mimport\u001b[39;00m core\n\u001b[1;32m     18\u001b[0m \u001b[38;5;28;01mfrom\u001b[39;00m\u001b[38;5;250m \u001b[39m\u001b[38;5;21;01moryx\u001b[39;00m\u001b[38;5;250m \u001b[39m\u001b[38;5;28;01mimport\u001b[39;00m distributions\n\u001b[1;32m     19\u001b[0m \u001b[38;5;28;01mfrom\u001b[39;00m\u001b[38;5;250m \u001b[39m\u001b[38;5;21;01moryx\u001b[39;00m\u001b[38;5;250m \u001b[39m\u001b[38;5;28;01mimport\u001b[39;00m experimental\n",
      "File \u001b[0;32m~/anaconda3/envs/VS-QTrading/lib/python3.10/site-packages/oryx/core/__init__.py:16\u001b[0m\n\u001b[1;32m      1\u001b[0m \u001b[38;5;66;03m# Copyright 2024 The oryx Authors.\u001b[39;00m\n\u001b[1;32m      2\u001b[0m \u001b[38;5;66;03m#\u001b[39;00m\n\u001b[1;32m      3\u001b[0m \u001b[38;5;66;03m# Licensed under the Apache License, Version 2.0 (the \"License\");\u001b[39;00m\n\u001b[0;32m   (...)\u001b[0m\n\u001b[1;32m     12\u001b[0m \u001b[38;5;66;03m# See the License for the specific language governing permissions and\u001b[39;00m\n\u001b[1;32m     13\u001b[0m \u001b[38;5;66;03m# limitations under the License.\u001b[39;00m\n\u001b[1;32m     15\u001b[0m \u001b[38;5;124;03m\"\"\"Contains Oryx's core transformations and functionality.\"\"\"\u001b[39;00m\n\u001b[0;32m---> 16\u001b[0m \u001b[38;5;28;01mfrom\u001b[39;00m\u001b[38;5;250m \u001b[39m\u001b[38;5;21;01moryx\u001b[39;00m\u001b[38;5;21;01m.\u001b[39;00m\u001b[38;5;21;01mcore\u001b[39;00m\u001b[38;5;250m \u001b[39m\u001b[38;5;28;01mimport\u001b[39;00m interpreters\n\u001b[1;32m     17\u001b[0m \u001b[38;5;28;01mfrom\u001b[39;00m\u001b[38;5;250m \u001b[39m\u001b[38;5;21;01moryx\u001b[39;00m\u001b[38;5;21;01m.\u001b[39;00m\u001b[38;5;21;01mcore\u001b[39;00m\u001b[38;5;250m \u001b[39m\u001b[38;5;28;01mimport\u001b[39;00m ppl\n\u001b[1;32m     18\u001b[0m \u001b[38;5;28;01mfrom\u001b[39;00m\u001b[38;5;250m \u001b[39m\u001b[38;5;21;01moryx\u001b[39;00m\u001b[38;5;21;01m.\u001b[39;00m\u001b[38;5;21;01mcore\u001b[39;00m\u001b[38;5;250m \u001b[39m\u001b[38;5;28;01mimport\u001b[39;00m primitive\n",
      "File \u001b[0;32m~/anaconda3/envs/VS-QTrading/lib/python3.10/site-packages/oryx/core/interpreters/__init__.py:16\u001b[0m\n\u001b[1;32m      1\u001b[0m \u001b[38;5;66;03m# Copyright 2024 The oryx Authors.\u001b[39;00m\n\u001b[1;32m      2\u001b[0m \u001b[38;5;66;03m#\u001b[39;00m\n\u001b[1;32m      3\u001b[0m \u001b[38;5;66;03m# Licensed under the Apache License, Version 2.0 (the \"License\");\u001b[39;00m\n\u001b[0;32m   (...)\u001b[0m\n\u001b[1;32m     12\u001b[0m \u001b[38;5;66;03m# See the License for the specific language governing permissions and\u001b[39;00m\n\u001b[1;32m     13\u001b[0m \u001b[38;5;66;03m# limitations under the License.\u001b[39;00m\n\u001b[1;32m     15\u001b[0m \u001b[38;5;124;03m\"\"\"Contains function transformations implemented using JAX tracing machinery.\"\"\"\u001b[39;00m\n\u001b[0;32m---> 16\u001b[0m \u001b[38;5;28;01mfrom\u001b[39;00m\u001b[38;5;250m \u001b[39m\u001b[38;5;21;01moryx\u001b[39;00m\u001b[38;5;21;01m.\u001b[39;00m\u001b[38;5;21;01mcore\u001b[39;00m\u001b[38;5;21;01m.\u001b[39;00m\u001b[38;5;21;01minterpreters\u001b[39;00m\u001b[38;5;250m \u001b[39m\u001b[38;5;28;01mimport\u001b[39;00m harvest\n\u001b[1;32m     17\u001b[0m \u001b[38;5;28;01mfrom\u001b[39;00m\u001b[38;5;250m \u001b[39m\u001b[38;5;21;01moryx\u001b[39;00m\u001b[38;5;21;01m.\u001b[39;00m\u001b[38;5;21;01mcore\u001b[39;00m\u001b[38;5;21;01m.\u001b[39;00m\u001b[38;5;21;01minterpreters\u001b[39;00m\u001b[38;5;250m \u001b[39m\u001b[38;5;28;01mimport\u001b[39;00m inverse\n\u001b[1;32m     18\u001b[0m \u001b[38;5;28;01mfrom\u001b[39;00m\u001b[38;5;250m \u001b[39m\u001b[38;5;21;01moryx\u001b[39;00m\u001b[38;5;21;01m.\u001b[39;00m\u001b[38;5;21;01mcore\u001b[39;00m\u001b[38;5;21;01m.\u001b[39;00m\u001b[38;5;21;01minterpreters\u001b[39;00m\u001b[38;5;250m \u001b[39m\u001b[38;5;28;01mimport\u001b[39;00m log_prob\n",
      "File \u001b[0;32m~/anaconda3/envs/VS-QTrading/lib/python3.10/site-packages/oryx/core/interpreters/harvest.py:1568\u001b[0m\n\u001b[1;32m   1564\u001b[0m   \u001b[38;5;28;01mreturn\u001b[39;00m call_and_reap(plant(f, \u001b[38;5;241m*\u001b[39m\u001b[38;5;241m*\u001b[39mkwargs), \u001b[38;5;241m*\u001b[39m\u001b[38;5;241m*\u001b[39mkwargs)\n\u001b[1;32m   1567\u001b[0m \u001b[38;5;66;03m# Handle shard_map\u001b[39;00m\n\u001b[0;32m-> 1568\u001b[0m \u001b[38;5;129m@shard_map\u001b[39m\u001b[38;5;241;43m.\u001b[39;49m\u001b[43mregister_check\u001b[49m(sow_p)\n\u001b[1;32m   1569\u001b[0m \u001b[38;5;28;01mdef\u001b[39;00m\u001b[38;5;250m \u001b[39m\u001b[38;5;21m_sow_check\u001b[39m(mesh, \u001b[38;5;241m*\u001b[39min_rep, name, tag, mode, tree):\n\u001b[1;32m   1570\u001b[0m   \u001b[38;5;28;01mdel\u001b[39;00m mesh, name, tag, mode, tree\n\u001b[1;32m   1571\u001b[0m   \u001b[38;5;28;01mreturn\u001b[39;00m in_rep[\u001b[38;5;241m0\u001b[39m]  \u001b[38;5;66;03m# TODO(conmy): does this limit use to one output only?\u001b[39;00m\n",
      "\u001b[0;31mAttributeError\u001b[0m: module 'jax.experimental.shard_map' has no attribute 'register_check'"
     ]
    }
   ],
   "source": [
    "dfsample = eurusd[:1000].copy()\n",
    "results = walk_forward_autobnn_ovr(\n",
    "    df=dfsample,\n",
    "    window_size=40,\n",
    "    train_size=20,\n",
    "    step_size=5,\n",
    "    threshold=0.002,\n",
    "    n_classes=3\n",
    ")"
   ]
  }
 ],
 "metadata": {
  "kernelspec": {
   "display_name": "VS-QTrading",
   "language": "python",
   "name": "python3"
  },
  "language_info": {
   "codemirror_mode": {
    "name": "ipython",
    "version": 3
   },
   "file_extension": ".py",
   "mimetype": "text/x-python",
   "name": "python",
   "nbconvert_exporter": "python",
   "pygments_lexer": "ipython3",
   "version": "3.10.13"
  }
 },
 "nbformat": 4,
 "nbformat_minor": 5
}
