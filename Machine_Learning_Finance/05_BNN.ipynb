{
 "cells": [
  {
   "cell_type": "markdown",
   "id": "04a06a0b",
   "metadata": {},
   "source": [
    "### Auto Bayesian Neural Networks\n",
    "\n",
    "\n",
    "autoBNN on EUR/USD"
   ]
  },
  {
   "cell_type": "code",
   "execution_count": 3,
   "id": "dd8ffcd2",
   "metadata": {},
   "outputs": [
    {
     "name": "stderr",
     "output_type": "stream",
     "text": [
      "2025-06-27 22:21:57.342257: E external/local_xla/xla/stream_executor/cuda/cuda_fft.cc:477] Unable to register cuFFT factory: Attempting to register factory for plugin cuFFT when one has already been registered\n",
      "WARNING: All log messages before absl::InitializeLog() is called are written to STDERR\n",
      "E0000 00:00:1751077317.376670  350709 cuda_dnn.cc:8310] Unable to register cuDNN factory: Attempting to register factory for plugin cuDNN when one has already been registered\n",
      "E0000 00:00:1751077317.390321  350709 cuda_blas.cc:1418] Unable to register cuBLAS factory: Attempting to register factory for plugin cuBLAS when one has already been registered\n"
     ]
    }
   ],
   "source": [
    "import yfinance as yf\n",
    "import numpy as np\n",
    "import pandas as pd\n",
    "import autobnn as ab\n",
    "import jax\n",
    "from sklearn.preprocessing import StandardScaler\n",
    "from sklearn.metrics import accuracy_score"
   ]
  },
  {
   "cell_type": "code",
   "execution_count": 12,
   "id": "9c316d22",
   "metadata": {},
   "outputs": [
    {
     "name": "stderr",
     "output_type": "stream",
     "text": [
      "/tmp/ipykernel_350709/1077654021.py:1: FutureWarning: YF.download() has changed argument auto_adjust default to True\n",
      "  eurusd = yf.download(\"EURUSD=X\", start=\"2005-01-01\", end=\"2025-06-22\")\n",
      "[*********************100%***********************]  1 of 1 completed\n"
     ]
    }
   ],
   "source": [
    "eurusd = yf.download(\"EURUSD=X\", start=\"2005-01-01\", end=\"2025-06-22\")\n",
    "eurusd = eurusd.reset_index()"
   ]
  },
  {
   "cell_type": "code",
   "execution_count": 13,
   "id": "be81e501",
   "metadata": {},
   "outputs": [],
   "source": [
    "eurusd['Date'] = pd.to_datetime(eurusd['Date'])"
   ]
  },
  {
   "cell_type": "code",
   "execution_count": 14,
   "id": "ac7bdb6f",
   "metadata": {},
   "outputs": [
    {
     "name": "stderr",
     "output_type": "stream",
     "text": [
      "/tmp/ipykernel_350709/607364856.py:2: PerformanceWarning: dropping on a non-lexsorted multi-index without a level parameter may impact performance.\n",
      "  eurusd.drop(columns=['Volume'], inplace=True)\n"
     ]
    }
   ],
   "source": [
    "if 'Volume' in eurusd.columns:\n",
    "    eurusd.drop(columns=['Volume'], inplace=True)"
   ]
  },
  {
   "cell_type": "code",
   "execution_count": 15,
   "id": "1b6ec699",
   "metadata": {},
   "outputs": [],
   "source": [
    "def label_data(df, lookahead=5, threshold=0.002):\n",
    "    \"\"\"\n",
    "    Labels each candle based on future closing price percentage change.\n",
    "    Parameters:\n",
    "    -----------\n",
    "    df : pd.DataFrame\n",
    "        Data containing at least a 'Close' column.\n",
    "    lookahead : int, optional\n",
    "        Number of candles to look ahead (default is 5).\n",
    "    threshold : float, optional\n",
    "        Percentage change threshold for classification (default is 0.002 or 0.2%).\n",
    "    \"\"\"\n",
    "    \n",
    "    # Compute future percentage change in closing price\n",
    "    df[\"future_return\"] = df[\"Close\"].pct_change(lookahead).shift(-lookahead)\n",
    "    # Assign labels\n",
    "    df[\"label\"] = 0  # Default: Neutral\n",
    "    df.loc[df[\"future_return\"] > threshold, \"label\"] = 2  # Up\n",
    "    df.loc[df[\"future_return\"] < -threshold, \"label\"] = 1  # Down\n",
    "    # Drop future_return column (not needed in final output)\n",
    "    df.drop(columns=[\"future_return\"], inplace=True)"
   ]
  },
  {
   "cell_type": "code",
   "execution_count": 16,
   "id": "996a25a1",
   "metadata": {},
   "outputs": [
    {
     "name": "stderr",
     "output_type": "stream",
     "text": [
      "/tmp/ipykernel_350709/783438040.py:21: PerformanceWarning: dropping on a non-lexsorted multi-index without a level parameter may impact performance.\n",
      "  df.drop(columns=[\"future_return\"], inplace=True)\n"
     ]
    }
   ],
   "source": [
    "label_data(eurusd)"
   ]
  },
  {
   "cell_type": "code",
   "execution_count": 17,
   "id": "01cc6abc",
   "metadata": {},
   "outputs": [
    {
     "name": "stdout",
     "output_type": "stream",
     "text": [
      "Price        Date     Close      High       Low      Open label\n",
      "Ticker             EURUSD=X  EURUSD=X  EURUSD=X  EURUSD=X      \n",
      "0      2005-01-03  1.347001  1.358105  1.340195  1.358105     1\n",
      "1      2005-01-04  1.328198  1.349601  1.326102  1.347001     1\n",
      "3      2005-01-06  1.318305  1.327898  1.316396  1.327898     2\n",
      "4      2005-01-07  1.306097  1.324802  1.302999  1.318200     2\n",
      "5      2005-01-10  1.310994  1.311992  1.306404  1.307600     1\n",
      "6      2005-01-11  1.311699  1.317107  1.310496  1.311407     1\n",
      "7      2005-01-12  1.325592  1.329098  1.308695  1.311407     1\n",
      "8      2005-01-13  1.321109  1.326594  1.320306  1.325908     1\n",
      "9      2005-01-14  1.309895  1.321196  1.306797  1.321196     1\n",
      "11     2005-01-18  1.301795  1.307292  1.300306  1.304904     1\n"
     ]
    }
   ],
   "source": [
    "print(eurusd[eurusd[\"label\"] != 0].head(10))"
   ]
  }
 ],
 "metadata": {
  "kernelspec": {
   "display_name": "VS-QTrading",
   "language": "python",
   "name": "python3"
  },
  "language_info": {
   "codemirror_mode": {
    "name": "ipython",
    "version": 3
   },
   "file_extension": ".py",
   "mimetype": "text/x-python",
   "name": "python",
   "nbconvert_exporter": "python",
   "pygments_lexer": "ipython3",
   "version": "3.10.13"
  }
 },
 "nbformat": 4,
 "nbformat_minor": 5
}
