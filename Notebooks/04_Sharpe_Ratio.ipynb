{
 "cells": [
  {
   "cell_type": "markdown",
   "metadata": {
    "id": "qtVPihDIzDdR"
   },
   "source": [
    "# What Is the Sharpe Ratio?\n",
    "The Sharpe ratio compares the return of an investment with its risk. It's a mathematical expression of the insight that excess returns over a period of time may signify more volatility and risk, rather than investing skill.\n",
    "\n",
    "$$ SharpeRatio = \\frac{R_{p}-R_{f}}{\\sigma_{p}} $$\n",
    "\n",
    "Where:\n",
    "* Rp = Return of Portfolio\n",
    "* Rf = Risk-free rate\n",
    "* Op = Standard Deviation of the portfolio's excess returns\n",
    "\n",
    "https://www.investopedia.com/terms/s/sharperatio.asp#:~:text=To%20calculate%20the%20Sharpe%20ratio%2C%20investors%20can%20subtract%20the%20risk,deviation%20(the%20asset's%20volatility.)"
   ]
  },
  {
   "cell_type": "code",
   "execution_count": 41,
   "metadata": {
    "colab": {
     "base_uri": "https://localhost:8080/"
    },
    "id": "b12-qMCUSQoC",
    "outputId": "d85cef18-56b2-4b7a-bc0a-34ea0166d1c4"
   },
   "outputs": [
    {
     "name": "stdout",
     "output_type": "stream",
     "text": [
      "Requirement already satisfied: yfinance in c:\\users\\santi\\anaconda3\\lib\\site-packages (0.2.54)Note: you may need to restart the kernel to use updated packages.\n",
      "\n",
      "Requirement already satisfied: pandas>=1.3.0 in c:\\users\\santi\\anaconda3\\lib\\site-packages (from yfinance) (2.2.2)\n",
      "Requirement already satisfied: numpy>=1.16.5 in c:\\users\\santi\\anaconda3\\lib\\site-packages (from yfinance) (1.26.4)\n",
      "Requirement already satisfied: requests>=2.31 in c:\\users\\santi\\anaconda3\\lib\\site-packages (from yfinance) (2.32.3)\n",
      "Requirement already satisfied: multitasking>=0.0.7 in c:\\users\\santi\\anaconda3\\lib\\site-packages (from yfinance) (0.0.11)\n",
      "Requirement already satisfied: platformdirs>=2.0.0 in c:\\users\\santi\\appdata\\roaming\\python\\python312\\site-packages (from yfinance) (4.3.6)\n",
      "Requirement already satisfied: pytz>=2022.5 in c:\\users\\santi\\anaconda3\\lib\\site-packages (from yfinance) (2024.1)\n",
      "Requirement already satisfied: frozendict>=2.3.4 in c:\\users\\santi\\anaconda3\\lib\\site-packages (from yfinance) (2.4.2)\n",
      "Requirement already satisfied: peewee>=3.16.2 in c:\\users\\santi\\anaconda3\\lib\\site-packages (from yfinance) (3.17.9)\n",
      "Requirement already satisfied: beautifulsoup4>=4.11.1 in c:\\users\\santi\\anaconda3\\lib\\site-packages (from yfinance) (4.12.3)\n",
      "Requirement already satisfied: soupsieve>1.2 in c:\\users\\santi\\anaconda3\\lib\\site-packages (from beautifulsoup4>=4.11.1->yfinance) (2.5)\n",
      "Requirement already satisfied: python-dateutil>=2.8.2 in c:\\users\\santi\\appdata\\roaming\\python\\python312\\site-packages (from pandas>=1.3.0->yfinance) (2.9.0.post0)\n",
      "Requirement already satisfied: tzdata>=2022.7 in c:\\users\\santi\\anaconda3\\lib\\site-packages (from pandas>=1.3.0->yfinance) (2023.3)\n",
      "Requirement already satisfied: charset-normalizer<4,>=2 in c:\\users\\santi\\anaconda3\\lib\\site-packages (from requests>=2.31->yfinance) (3.3.2)\n",
      "Requirement already satisfied: idna<4,>=2.5 in c:\\users\\santi\\anaconda3\\lib\\site-packages (from requests>=2.31->yfinance) (3.7)\n",
      "Requirement already satisfied: urllib3<3,>=1.21.1 in c:\\users\\santi\\anaconda3\\lib\\site-packages (from requests>=2.31->yfinance) (2.2.3)\n",
      "Requirement already satisfied: certifi>=2017.4.17 in c:\\users\\santi\\anaconda3\\lib\\site-packages (from requests>=2.31->yfinance) (2025.1.31)\n",
      "Requirement already satisfied: six>=1.5 in c:\\users\\santi\\appdata\\roaming\\python\\python312\\site-packages (from python-dateutil>=2.8.2->pandas>=1.3.0->yfinance) (1.16.0)\n"
     ]
    }
   ],
   "source": [
    "pip install yfinance"
   ]
  },
  {
   "cell_type": "code",
   "execution_count": 5,
   "metadata": {
    "id": "gudm_I8By_M7"
   },
   "outputs": [],
   "source": [
    "import numpy as np\n",
    "import pandas as pd\n",
    "import yfinance as yf\n",
    "import matplotlib.pyplot as plt"
   ]
  },
  {
   "cell_type": "code",
   "execution_count": 6,
   "metadata": {
    "id": "g0E4dQySRh6j"
   },
   "outputs": [],
   "source": [
    "rfr = 0.03 #Risk-Free rate"
   ]
  },
  {
   "cell_type": "code",
   "execution_count": 24,
   "metadata": {
    "colab": {
     "base_uri": "https://localhost:8080/"
    },
    "id": "hkc_J-Y-RpZg",
    "outputId": "8aeb0594-e0c7-4d6d-ec14-fae4df2b157b"
   },
   "outputs": [
    {
     "name": "stdout",
     "output_type": "stream",
     "text": [
      "                                 Open        High         Low       Close  \\\n",
      "Date                                                                        \n",
      "2016-01-04 00:00:00-05:00   98.255555   98.450983   96.896447   97.722572   \n",
      "2016-01-05 00:00:00-05:00   98.077900   98.228911   97.313956   97.935768   \n",
      "2016-01-06 00:00:00-05:00   96.558875   97.358352   95.937063   96.443398   \n",
      "2016-01-07 00:00:00-05:00   94.800026   95.492904   93.707407   93.867302   \n",
      "2016-01-08 00:00:00-05:00   94.044985   94.595731   92.081829   92.250603   \n",
      "...                               ...         ...         ...         ...   \n",
      "2025-02-25 00:00:00-05:00  216.369995  217.270004  213.490005  215.410004   \n",
      "2025-02-26 00:00:00-05:00  216.059998  218.410004  214.839996  215.679993   \n",
      "2025-02-27 00:00:00-05:00  215.639999  216.490005  212.220001  212.389999   \n",
      "2025-02-28 00:00:00-05:00  211.639999  214.660004  210.960007  214.649994   \n",
      "2025-03-03 00:00:00-05:00  215.399994  215.960007  207.419998  208.779999   \n",
      "\n",
      "                             Volume  Dividends  Stock Splits  Capital Gains  \n",
      "Date                                                                         \n",
      "2016-01-04 00:00:00-05:00  66665900        0.0           0.0            0.0  \n",
      "2016-01-05 00:00:00-05:00  28253300        0.0           0.0            0.0  \n",
      "2016-01-06 00:00:00-05:00  35569200        0.0           0.0            0.0  \n",
      "2016-01-07 00:00:00-05:00  52482000        0.0           0.0            0.0  \n",
      "2016-01-08 00:00:00-05:00  60299300        0.0           0.0            0.0  \n",
      "...                             ...        ...           ...            ...  \n",
      "2025-02-25 00:00:00-05:00  33665100        0.0           0.0            0.0  \n",
      "2025-02-26 00:00:00-05:00  25464200        0.0           0.0            0.0  \n",
      "2025-02-27 00:00:00-05:00  29378500        0.0           0.0            0.0  \n",
      "2025-02-28 00:00:00-05:00  32015400        0.0           0.0            0.0  \n",
      "2025-03-03 00:00:00-05:00  36330000        0.0           0.0            0.0  \n",
      "\n",
      "[2304 rows x 8 columns]\n"
     ]
    }
   ],
   "source": [
    "russell = yf.Ticker('IWM') #iShares Russell 200 ETF\n",
    "data_russell = russell.history(interval='1d', start='2016-01-01', end='2025-03-04')\n",
    "print(data_russell  )"
   ]
  },
  {
   "cell_type": "code",
   "execution_count": 26,
   "metadata": {
    "colab": {
     "base_uri": "https://localhost:8080/"
    },
    "id": "EldERJjnSK07",
    "outputId": "be2a11a1-5364-4fec-a44a-195249ea7b07"
   },
   "outputs": [
    {
     "name": "stdout",
     "output_type": "stream",
     "text": [
      "Date\n",
      "2016-01-05 00:00:00-05:00    0.002179\n",
      "2016-01-06 00:00:00-05:00   -0.015356\n",
      "2016-01-07 00:00:00-05:00   -0.027074\n",
      "2016-01-08 00:00:00-05:00   -0.017373\n",
      "2016-01-11 00:00:00-05:00   -0.004343\n",
      "                               ...   \n",
      "2025-02-25 00:00:00-05:00   -0.003799\n",
      "2025-02-26 00:00:00-05:00    0.001253\n",
      "2025-02-27 00:00:00-05:00   -0.015372\n",
      "2025-02-28 00:00:00-05:00    0.010585\n",
      "2025-03-03 00:00:00-05:00   -0.027728\n",
      "Name: Close, Length: 2303, dtype: float64\n"
     ]
    }
   ],
   "source": [
    "#The returns are estimated as the log difference from the closing price:\n",
    "russell_close = data_russell['Close']\n",
    "russell_returns = np.log(russell_close).diff()\n",
    "russell_returns = russell_returns.dropna()\n",
    "print(russell_returns)"
   ]
  },
  {
   "cell_type": "code",
   "execution_count": 28,
   "metadata": {
    "colab": {
     "base_uri": "https://localhost:8080/"
    },
    "id": "qH9CLYMCTZIJ",
    "outputId": "bf769ce7-af42-4615-8c33-77baeb896b4c"
   },
   "outputs": [
    {
     "name": "stdout",
     "output_type": "stream",
     "text": [
      "russell_mean_returns: 0.08306791994945344\n",
      "russell_std_returns: 0.23089299896481844\n"
     ]
    }
   ],
   "source": [
    "russell_mean_returns = np.mean(russell_returns) *252\n",
    "russell_std_returns = np.std(russell_returns)*np.sqrt(252)\n",
    "print(f\"russell_mean_returns:\" ,russell_mean_returns)\n",
    "print(f\"russell_std_returns:\" ,russell_std_returns)"
   ]
  },
  {
   "cell_type": "code",
   "execution_count": 30,
   "metadata": {
    "colab": {
     "base_uri": "https://localhost:8080/"
    },
    "id": "Wcf4EkSMVmQs",
    "outputId": "25c90ab2-3705-46e8-8e58-c88de57966a2"
   },
   "outputs": [
    {
     "name": "stdout",
     "output_type": "stream",
     "text": [
      "sharpe_ratio: 0.22983771784929471\n"
     ]
    }
   ],
   "source": [
    "#Calculate the Sharpe Ratio\n",
    "sharpe_ratio = (russell_mean_returns - rfr) / russell_std_returns\n",
    "print(f\"sharpe_ratio:\" ,sharpe_ratio)"
   ]
  },
  {
   "cell_type": "code",
   "execution_count": 36,
   "metadata": {
    "colab": {
     "base_uri": "https://localhost:8080/"
    },
    "id": "7_CooWh-VuOL",
    "outputId": "d53e65a0-bc8d-4a4e-cede-d4b6a225f23b"
   },
   "outputs": [
    {
     "name": "stdout",
     "output_type": "stream",
     "text": [
      "russell_total_returns: 2.1364562332784462\n"
     ]
    },
    {
     "name": "stderr",
     "output_type": "stream",
     "text": [
      "C:\\Users\\santi\\AppData\\Local\\Temp\\ipykernel_9728\\1515282969.py:2: FutureWarning: Series.__getitem__ treating keys as positions is deprecated. In a future version, integer keys will always be treated as labels (consistent with DataFrame behavior). To access a value by position, use `ser.iloc[pos]`\n",
      "  russell_total_returns = russell_close[-1] / russell_close[0]\n"
     ]
    }
   ],
   "source": [
    "#Total Returns\n",
    "russell_total_returns = russell_close[-1] / russell_close[0]\n",
    "print(f\"russell_total_returns:\" ,russell_total_returns)"
   ]
  },
  {
   "cell_type": "code",
   "execution_count": 38,
   "metadata": {
    "colab": {
     "base_uri": "https://localhost:8080/"
    },
    "id": "NQBU4XtjWXLO",
    "outputId": "1823726b-a76b-465b-c430-5c017a2432cb"
   },
   "outputs": [
    {
     "name": "stdout",
     "output_type": "stream",
     "text": [
      "\n",
      "Mean Returns: 8.31%\n",
      "Standard Deviation of Returns: 23.09%\n",
      "Sharpe Ratio: 0.22983771784929471\n",
      "Total Returns: 213.65%\n"
     ]
    }
   ],
   "source": [
    "print(f\"\\nMean Returns: {russell_mean_returns * 100:.2f}%\")\n",
    "print(f\"Standard Deviation of Returns: {russell_std_returns*100:.2f}%\")\n",
    "print(f\"Sharpe Ratio: {sharpe_ratio}\")\n",
    "print(f\"Total Returns: {russell_total_returns*100:.2f}%\")"
   ]
  },
  {
   "cell_type": "markdown",
   "metadata": {
    "id": "5S0D0tFdaAof"
   },
   "source": [
    "# iShares Russell 2000 ETF Performance Metrics\n",
    "* **Mean Returns:** *9.41%* - Average expected return over the period, indicating profitable performance.\n",
    "* **Standard Deviation of Returns:** *23.13%* - Reflects high volatility, suggesting returns can vary significantly from the mean.\n",
    "* **Sharpe Ratio:** *0.277* - Indicates low risk-adjusted return; positive but marginal compensation for risk.\n",
    "* **Total Returns:** *234.02%* - Cumulative return, representing substantial growth of the investment over the specified period.\n"
   ]
  }
 ],
 "metadata": {
  "colab": {
   "provenance": []
  },
  "kernelspec": {
   "display_name": "Python 3 (ipykernel)",
   "language": "python",
   "name": "python3"
  },
  "language_info": {
   "codemirror_mode": {
    "name": "ipython",
    "version": 3
   },
   "file_extension": ".py",
   "mimetype": "text/x-python",
   "name": "python",
   "nbconvert_exporter": "python",
   "pygments_lexer": "ipython3",
   "version": "3.12.7"
  }
 },
 "nbformat": 4,
 "nbformat_minor": 4
}
