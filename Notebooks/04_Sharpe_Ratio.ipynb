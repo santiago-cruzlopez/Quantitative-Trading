{
  "cells": [
    {
      "cell_type": "markdown",
      "metadata": {
        "id": "qtVPihDIzDdR"
      },
      "source": [
        "# What Is the Sharpe Ratio?\n",
        "The Sharpe ratio compares the return of an investment with its risk. It's a mathematical expression of the insight that excess returns over a period of time may signify more volatility and risk, rather than investing skill.\n",
        "\n",
        "$$ SharpeRatio = \\frac{R_{p}-R_{f}}{\\sigma_{p}} $$\n",
        "\n",
        "Where:\n",
        "* Rp = Return of Portfolio\n",
        "* Rf = Risk-free rate\n",
        "* Op = Standard Deviation of the portfolio's excess returns\n",
        "\n",
        "https://www.investopedia.com/terms/s/sharperatio.asp#:~:text=To%20calculate%20the%20Sharpe%20ratio%2C%20investors%20can%20subtract%20the%20risk,deviation%20(the%20asset's%20volatility.)"
      ]
    },
    {
      "cell_type": "code",
      "execution_count": null,
      "metadata": {
        "id": "gudm_I8By_M7"
      },
      "outputs": [],
      "source": [
        "import numpy as np\n",
        "import pandas as pd\n",
        "import yfinance as yf\n",
        "import matplotlib.pyplot as plt"
      ]
    },
    {
      "cell_type": "code",
      "execution_count": null,
      "metadata": {
        "id": "g0E4dQySRh6j"
      },
      "outputs": [],
      "source": [
        "rfr = 0.03 #Risk-Free rate"
      ]
    },
    {
      "cell_type": "code",
      "execution_count": null,
      "metadata": {
        "colab": {
          "base_uri": "https://localhost:8080/"
        },
        "id": "hkc_J-Y-RpZg",
        "outputId": "8aeb0594-e0c7-4d6d-ec14-fae4df2b157b"
      },
      "outputs": [
        {
          "name": "stdout",
          "output_type": "stream",
          "text": [
            "                                 Open        High         Low       Close  \\\n",
            "Date                                                                        \n",
            "2016-01-04 00:00:00-05:00   98.255547   98.450975   96.896440   97.722565   \n",
            "2016-01-05 00:00:00-05:00   98.077893   98.228903   97.313949   97.935760   \n",
            "2016-01-06 00:00:00-05:00   96.558898   97.358375   95.937086   96.443420   \n",
            "2016-01-07 00:00:00-05:00   94.800041   95.492919   93.707422   93.867317   \n",
            "2016-01-08 00:00:00-05:00   94.044970   94.595715   92.081814   92.250587   \n",
            "...                               ...         ...         ...         ...   \n",
            "2025-01-17 00:00:00-05:00  226.929993  226.970001  224.669998  225.460007   \n",
            "2025-01-21 00:00:00-05:00  227.520004  229.889999  226.990005  229.789993   \n",
            "2025-01-22 00:00:00-05:00  229.350006  229.850006  227.830002  228.289993   \n",
            "2025-01-23 00:00:00-05:00  226.929993  229.350006  226.550003  229.330002   \n",
            "2025-01-24 00:00:00-05:00  228.820007  230.229996  228.039993  228.690002   \n",
            "\n",
            "                             Volume  Dividends  Stock Splits  Capital Gains  \n",
            "Date                                                                         \n",
            "2016-01-04 00:00:00-05:00  66665900        0.0           0.0            0.0  \n",
            "2016-01-05 00:00:00-05:00  28253300        0.0           0.0            0.0  \n",
            "2016-01-06 00:00:00-05:00  35569200        0.0           0.0            0.0  \n",
            "2016-01-07 00:00:00-05:00  52482000        0.0           0.0            0.0  \n",
            "2016-01-08 00:00:00-05:00  60299300        0.0           0.0            0.0  \n",
            "...                             ...        ...           ...            ...  \n",
            "2025-01-17 00:00:00-05:00  26754900        0.0           0.0            0.0  \n",
            "2025-01-21 00:00:00-05:00  26086300        0.0           0.0            0.0  \n",
            "2025-01-22 00:00:00-05:00  21307300        0.0           0.0            0.0  \n",
            "2025-01-23 00:00:00-05:00  20850700        0.0           0.0            0.0  \n",
            "2025-01-24 00:00:00-05:00  19061300        0.0           0.0            0.0  \n",
            "\n",
            "[2279 rows x 8 columns]\n"
          ]
        }
      ],
      "source": [
        "russell = yf.Ticker('IWM') #iShares Russell 200 ETF\n",
        "data_russell = russell.history(interval='1d', start='2016-01-01', end='2025-01-25')\n",
        "print(data_russell  )"
      ]
    },
    {
      "cell_type": "code",
      "execution_count": null,
      "metadata": {
        "colab": {
          "base_uri": "https://localhost:8080/"
        },
        "id": "EldERJjnSK07",
        "outputId": "be2a11a1-5364-4fec-a44a-195249ea7b07"
      },
      "outputs": [
        {
          "name": "stdout",
          "output_type": "stream",
          "text": [
            "Date\n",
            "2016-01-05 00:00:00-05:00    0.002179\n",
            "2016-01-06 00:00:00-05:00   -0.015355\n",
            "2016-01-07 00:00:00-05:00   -0.027074\n",
            "2016-01-08 00:00:00-05:00   -0.017374\n",
            "2016-01-11 00:00:00-05:00   -0.004342\n",
            "                               ...   \n",
            "2025-01-17 00:00:00-05:00    0.004312\n",
            "2025-01-21 00:00:00-05:00    0.019023\n",
            "2025-01-22 00:00:00-05:00   -0.006549\n",
            "2025-01-23 00:00:00-05:00    0.004545\n",
            "2025-01-24 00:00:00-05:00   -0.002795\n",
            "Name: Close, Length: 2278, dtype: float64\n"
          ]
        }
      ],
      "source": [
        "#The returns are estimated as the log difference from the closing price:\n",
        "russell_close = data_russell['Close']\n",
        "russell_returns = np.log(russell_close).diff()\n",
        "russell_returns = russell_returns.dropna()\n",
        "print(russell_returns)"
      ]
    },
    {
      "cell_type": "code",
      "execution_count": null,
      "metadata": {
        "colab": {
          "base_uri": "https://localhost:8080/"
        },
        "id": "qH9CLYMCTZIJ",
        "outputId": "bf769ce7-af42-4615-8c33-77baeb896b4c"
      },
      "outputs": [
        {
          "name": "stdout",
          "output_type": "stream",
          "text": [
            "russell_mean_returns: 0.09405583550079015\n",
            "russell_std_returns: 0.23134943493997906\n"
          ]
        }
      ],
      "source": [
        "russell_mean_returns = np.mean(russell_returns) *252\n",
        "russell_std_returns = np.std(russell_returns)*np.sqrt(252)\n",
        "print(f\"russell_mean_returns:\" ,russell_mean_returns)\n",
        "print(f\"russell_std_returns:\" ,russell_std_returns)"
      ]
    },
    {
      "cell_type": "code",
      "execution_count": null,
      "metadata": {
        "colab": {
          "base_uri": "https://localhost:8080/"
        },
        "id": "Wcf4EkSMVmQs",
        "outputId": "25c90ab2-3705-46e8-8e58-c88de57966a2"
      },
      "outputs": [
        {
          "name": "stdout",
          "output_type": "stream",
          "text": [
            "sharpe_ratio: 0.2768791526005183\n"
          ]
        }
      ],
      "source": [
        "#Calculate the Sharpe Ratio\n",
        "sharpe_ratio = (russell_mean_returns - rfr) / russell_std_returns\n",
        "print(f\"sharpe_ratio:\" ,sharpe_ratio)"
      ]
    },
    {
      "cell_type": "code",
      "execution_count": null,
      "metadata": {
        "colab": {
          "base_uri": "https://localhost:8080/"
        },
        "id": "7_CooWh-VuOL",
        "outputId": "d53e65a0-bc8d-4a4e-cede-d4b6a225f23b"
      },
      "outputs": [
        {
          "name": "stdout",
          "output_type": "stream",
          "text": [
            "russell_total_returns: 2.3401964853241846\n"
          ]
        },
        {
          "name": "stderr",
          "output_type": "stream",
          "text": [
            "<ipython-input-13-60707240273f>:2: FutureWarning: Series.__getitem__ treating keys as positions is deprecated. In a future version, integer keys will always be treated as labels (consistent with DataFrame behavior). To access a value by position, use `ser.iloc[pos]`\n",
            "  russell_total_returns = russell_close[-1] / russell_close[0]\n"
          ]
        }
      ],
      "source": [
        "#Total Returns\n",
        "russell_total_returns = russell_close[-1] / russell_close[0]\n",
        "print(f\"russell_total_returns:\" ,russell_total_returns)"
      ]
    },
    {
      "cell_type": "code",
      "execution_count": 21,
      "metadata": {
        "colab": {
          "base_uri": "https://localhost:8080/"
        },
        "id": "NQBU4XtjWXLO",
        "outputId": "1823726b-a76b-465b-c430-5c017a2432cb"
      },
      "outputs": [
        {
          "name": "stdout",
          "output_type": "stream",
          "text": [
            "\n",
            "Mean Returns: 9.41%\n",
            "Standard Deviation of Returns: 23.13%\n",
            "Sharpe Ratio: 0.2768791526005183\n",
            "Total Returns: 234.02%\n"
          ]
        }
      ],
      "source": [
        "print(f\"\\nMean Returns: {russell_mean_returns * 100:.2f}%\")\n",
        "print(f\"Standard Deviation of Returns: {russell_std_returns*100:.2f}%\")\n",
        "print(f\"Sharpe Ratio: {sharpe_ratio}\")\n",
        "print(f\"Total Returns: {russell_total_returns*100:.2f}%\")"
      ]
    },
    {
      "cell_type": "markdown",
      "metadata": {
        "id": "5S0D0tFdaAof"
      },
      "source": [
        "# iShares Russell 2000 ETF Performance Metrics\n",
        "* **Mean Returns:** *9.41%* - Average expected return over the period, indicating profitable performance.\n",
        "* **Standard Deviation of Returns:** *23.13%* - Reflects high volatility, suggesting returns can vary significantly from the mean.\n",
        "* **Sharpe Ratio:** *0.277* - Indicates low risk-adjusted return; positive but marginal compensation for risk.\n",
        "* **Total Returns:** *234.02%* - Cumulative return, representing substantial growth of the investment over the specified period.\n"
      ]
    }
  ],
  "metadata": {
    "colab": {
      "provenance": []
    },
    "kernelspec": {
      "display_name": "Python 3",
      "name": "python3"
    },
    "language_info": {
      "name": "python"
    }
  },
  "nbformat": 4,
  "nbformat_minor": 0
}
