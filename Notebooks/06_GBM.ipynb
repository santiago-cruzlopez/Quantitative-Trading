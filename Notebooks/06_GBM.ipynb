{
 "cells": [
  {
   "cell_type": "markdown",
   "metadata": {},
   "source": [
    "A geometric Brownian motion (GBM) (also known as exponential Brownian motion) is a continuous-time stochastic process in which the logarithm of the randomly varying quantity follows a Brownian motion (also called a Wiener process) with drift.[1] It is an important example of stochastic processes satisfying a stochastic differential equation (SDE); in particular, it is used in mathematical finance to model stock prices in the Black–Scholes model.\n",
    "\n",
    "$$ log(Y(t)) = X(t) = \\mu t + \\sigma \\beta(t) $$\n",
    "\n",
    "https://www.pyquantnews.com/the-pyquant-newsletter/how-to-simulate-stock-prices-with-python"
   ]
  },
  {
   "cell_type": "code",
   "execution_count": 2,
   "metadata": {},
   "outputs": [],
   "source": [
    "import numpy as np\n",
    "import matplotlib.pyplot as plt"
   ]
  },
  {
   "cell_type": "code",
   "execution_count": 3,
   "metadata": {},
   "outputs": [],
   "source": [
    "# Set up parameters for Brownian Motion\n",
    "s0 = 131.00\n",
    "sigma = 0.25        # Percentage volatility\n",
    "mu = 0.35           # Percentage drift\n",
    "\n",
    "# Setup the simulation\n",
    "paths = 1000        # Number of price simulations to create\n",
    "delta = 1.0/252.0   # The increment to downsample sigma\n",
    "time = 252*5        # Number of samples to create"
   ]
  },
  {
   "cell_type": "code",
   "execution_count": 4,
   "metadata": {},
   "outputs": [],
   "source": [
    "def wiener_process(delta, sigma, time, paths):\n",
    "    \"\"\"Returns a Wiener process\n",
    "    \n",
    "    Returns\n",
    "    -------\n",
    "    wiener_process : np.ndarray\n",
    "    \n",
    "    Notes\n",
    "    -----\n",
    "    This method returns a Wiener process. \n",
    "    The Wiener process is also called Brownian \n",
    "    motion. For more information about the \n",
    "    Wiener process check out the Wikipedia \n",
    "    page: http://en.wikipedia.org/wiki/Wiener_process\n",
    "    \"\"\"\n",
    "\n",
    "    # return an array of samples from a normal distribution\n",
    "    return sigma * np.random.normal(loc=0, scale=np.sqrt(delta), size=(time, paths))"
   ]
  },
  {
   "cell_type": "code",
   "execution_count": 5,
   "metadata": {},
   "outputs": [
    {
     "ename": "_IncompleteInputError",
     "evalue": "incomplete input (1114310079.py, line 14)",
     "output_type": "error",
     "traceback": [
      "  \u001b[36mCell\u001b[39m\u001b[36m \u001b[39m\u001b[32mIn[5]\u001b[39m\u001b[32m, line 14\u001b[39m\n\u001b[31m    \u001b[39m\u001b[31mprocess + (mu - sigma**2 / 2) * delta\u001b[39m\n                                         ^\n\u001b[31m_IncompleteInputError\u001b[39m\u001b[31m:\u001b[39m incomplete input\n"
     ]
    }
   ],
   "source": [
    "def gbm_returns(delta,sigma, time, mu, paths):\n",
    "    \"\"\"Returns from a Geometric brownian motion\n",
    "        Returns\n",
    "    -------\n",
    "    gbm_returns : np.ndarray\n",
    "    \n",
    "    Notes\n",
    "    -----\n",
    "    This method constructs random Geometric Brownian \n",
    "    Motion (GBM).\n",
    "    \"\"\"\n",
    "    process = wiener_process(delta, sigma, time, paths)\n",
    "    return np.exp(\n",
    "        process + (mu - sigma**2 / 2) * delta"
   ]
  },
  {
   "cell_type": "code",
   "execution_count": 6,
   "metadata": {},
   "outputs": [],
   "source": [
    "def gbm_levels(s0, delta, sigma, time, mu, paths):\n",
    "    \"\"\"Returns price paths starting at s0\n",
    "    \n",
    "    Parameters\n",
    "    ----------\n",
    "    s0 : float\n",
    "        The starting stock price\n",
    "    delta : float\n",
    "        The increment to downsample sigma\n",
    "    sigma : float\n",
    "        Percentage volatility\n",
    "    time : int\n",
    "        Number of samples to create\n",
    "    mu : float\n",
    "        Percentage drift\n",
    "    paths : int\n",
    "        Number of price simulations to create\n",
    "    \n",
    "    Returns\n",
    "    -------\n",
    "    gbm_levels : np.ndarray\n",
    "    \"\"\"\n",
    "    returns = gbm_returns(delta, sigma, time, mu, paths)\n",
    "\n",
    "    stacked = np.vstack([np.ones(paths), returns])\n",
    "    return s0 * stacked.cumprod(axis=0)"
   ]
  },
  {
   "cell_type": "code",
   "execution_count": 7,
   "metadata": {},
   "outputs": [
    {
     "ename": "NameError",
     "evalue": "name 'gbm_returns' is not defined",
     "output_type": "error",
     "traceback": [
      "\u001b[31m---------------------------------------------------------------------------\u001b[39m",
      "\u001b[31mNameError\u001b[39m                                 Traceback (most recent call last)",
      "\u001b[36mCell\u001b[39m\u001b[36m \u001b[39m\u001b[32mIn[7]\u001b[39m\u001b[32m, line 1\u001b[39m\n\u001b[32m----> \u001b[39m\u001b[32m1\u001b[39m price_paths = \u001b[43mgbm_levels\u001b[49m\u001b[43m(\u001b[49m\u001b[43ms0\u001b[49m\u001b[43m,\u001b[49m\u001b[43m \u001b[49m\u001b[43mdelta\u001b[49m\u001b[43m,\u001b[49m\u001b[43m \u001b[49m\u001b[43msigma\u001b[49m\u001b[43m,\u001b[49m\u001b[43m \u001b[49m\u001b[43mtime\u001b[49m\u001b[43m,\u001b[49m\u001b[43m \u001b[49m\u001b[43mmu\u001b[49m\u001b[43m,\u001b[49m\u001b[43m \u001b[49m\u001b[43mpaths\u001b[49m\u001b[43m)\u001b[49m\n\u001b[32m      2\u001b[39m plt.plot(price_paths, linewidth=\u001b[32m0.25\u001b[39m)\n\u001b[32m      3\u001b[39m plt.show()\n",
      "\u001b[36mCell\u001b[39m\u001b[36m \u001b[39m\u001b[32mIn[6]\u001b[39m\u001b[32m, line 23\u001b[39m, in \u001b[36mgbm_levels\u001b[39m\u001b[34m(s0, delta, sigma, time, mu, paths)\u001b[39m\n\u001b[32m      1\u001b[39m \u001b[38;5;28;01mdef\u001b[39;00m\u001b[38;5;250m \u001b[39m\u001b[34mgbm_levels\u001b[39m(s0, delta, sigma, time, mu, paths):\n\u001b[32m      2\u001b[39m \u001b[38;5;250m    \u001b[39m\u001b[33;03m\"\"\"Returns price paths starting at s0\u001b[39;00m\n\u001b[32m      3\u001b[39m \u001b[33;03m    \u001b[39;00m\n\u001b[32m      4\u001b[39m \u001b[33;03m    Parameters\u001b[39;00m\n\u001b[32m   (...)\u001b[39m\u001b[32m     21\u001b[39m \u001b[33;03m    gbm_levels : np.ndarray\u001b[39;00m\n\u001b[32m     22\u001b[39m \u001b[33;03m    \"\"\"\u001b[39;00m\n\u001b[32m---> \u001b[39m\u001b[32m23\u001b[39m     returns = \u001b[43mgbm_returns\u001b[49m(delta, sigma, time, mu, paths)\n\u001b[32m     25\u001b[39m     stacked = np.vstack([np.ones(paths), returns])\n\u001b[32m     26\u001b[39m     \u001b[38;5;28;01mreturn\u001b[39;00m s0 * stacked.cumprod(axis=\u001b[32m0\u001b[39m)\n",
      "\u001b[31mNameError\u001b[39m: name 'gbm_returns' is not defined"
     ]
    }
   ],
   "source": [
    "price_paths = gbm_levels(s0, delta, sigma, time, mu, paths)\n",
    "plt.plot(price_paths, linewidth=0.25)\n",
    "plt.show()"
   ]
  }
 ],
 "metadata": {
  "kernelspec": {
   "display_name": "Python 3",
   "language": "python",
   "name": "python3"
  },
  "language_info": {
   "codemirror_mode": {
    "name": "ipython",
    "version": 3
   },
   "file_extension": ".py",
   "mimetype": "text/x-python",
   "name": "python",
   "nbconvert_exporter": "python",
   "pygments_lexer": "ipython3",
   "version": "3.13.2"
  }
 },
 "nbformat": 4,
 "nbformat_minor": 2
}
