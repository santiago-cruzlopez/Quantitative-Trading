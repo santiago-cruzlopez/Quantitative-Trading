{
 "cells": [
  {
   "cell_type": "markdown",
   "metadata": {},
   "source": [
    "A geometric Brownian motion (GBM) (also known as exponential Brownian motion) is a continuous-time stochastic process in which the logarithm of the randomly varying quantity follows a Brownian motion (also called a Wiener process) with drift.[1] It is an important example of stochastic processes satisfying a stochastic differential equation (SDE); in particular, it is used in mathematical finance to model stock prices in the Black–Scholes model.\n",
    "\n",
    "$$ log(Y(t)) = X(t) = \\mu t + \\sigma \\beta(t) $$\n",
    "\n",
    "https://www.pyquantnews.com/the-pyquant-newsletter/how-to-simulate-stock-prices-with-python"
   ]
  },
  {
   "cell_type": "code",
   "execution_count": 1,
   "metadata": {},
   "outputs": [],
   "source": [
    "import numpy as np\n",
    "import matplotlib.pyplot as plt"
   ]
  },
  {
   "cell_type": "code",
   "execution_count": 4,
   "metadata": {},
   "outputs": [],
   "source": [
    "# Set up parameters for Brownian Motion\n",
    "s0 = 131.00\n",
    "sigma = 0.25        # Percentage volatility\n",
    "mu = 0.35           # Percentage drift\n",
    "\n",
    "# Setup the simulation\n",
    "paths = 1000        # Number of price simulations to create\n",
    "delta = 1.0/252.0   # The increment to downsample sigma\n",
    "time = 252*5        # Number of samples to create"
   ]
  },
  {
   "cell_type": "code",
   "execution_count": 6,
   "metadata": {},
   "outputs": [],
   "source": [
    "def wiener_process(delta, sigma, time, paths):\n",
    "    \"\"\"Returns a Wiener process\n",
    "    \n",
    "    Returns\n",
    "    -------\n",
    "    wiener_process : np.ndarray\n",
    "    \n",
    "    Notes\n",
    "    -----\n",
    "    This method returns a Wiener process. \n",
    "    The Wiener process is also called Brownian \n",
    "    motion. For more information about the \n",
    "    Wiener process check out the Wikipedia \n",
    "    page: http://en.wikipedia.org/wiki/Wiener_process\n",
    "    \"\"\"\n",
    "\n",
    "    # return an array of samples from a normal distribution\n",
    "    return sigma * np.random.normal(loc=0, scale=np.sqrt(delta), size=(time, paths))"
   ]
  },
  {
   "cell_type": "code",
   "execution_count": 8,
   "metadata": {},
   "outputs": [
    {
     "ename": "SyntaxError",
     "evalue": "incomplete input (1114310079.py, line 14)",
     "output_type": "error",
     "traceback": [
      "\u001b[0;36m  Cell \u001b[0;32mIn[8], line 14\u001b[0;36m\u001b[0m\n\u001b[0;31m    process + (mu - sigma**2 / 2) * delta\u001b[0m\n\u001b[0m                                         ^\u001b[0m\n\u001b[0;31mSyntaxError\u001b[0m\u001b[0;31m:\u001b[0m incomplete input\n"
     ]
    }
   ],
   "source": [
    "def gbm_returns(delta,sigma, time, mu, paths):\n",
    "    \"\"\"Returns from a Geometric brownian motion\n",
    "        Returns\n",
    "    -------\n",
    "    gbm_returns : np.ndarray\n",
    "    \n",
    "    Notes\n",
    "    -----\n",
    "    This method constructs random Geometric Brownian \n",
    "    Motion (GBM).\n",
    "    \"\"\"\n",
    "    process = wiener_process(delta, sigma, time, paths)\n",
    "    return np.exp(\n",
    "        process + (mu - sigma**2 / 2) * delta"
   ]
  },
  {
   "cell_type": "code",
   "execution_count": null,
   "metadata": {},
   "outputs": [],
   "source": []
  }
 ],
 "metadata": {
  "kernelspec": {
   "display_name": "Python 3 (ipykernel)",
   "language": "python",
   "name": "python3"
  },
  "language_info": {
   "codemirror_mode": {
    "name": "ipython",
    "version": 3
   },
   "file_extension": ".py",
   "mimetype": "text/x-python",
   "name": "python",
   "nbconvert_exporter": "python",
   "pygments_lexer": "ipython3",
   "version": "3.12.1"
  }
 },
 "nbformat": 4,
 "nbformat_minor": 2
}
