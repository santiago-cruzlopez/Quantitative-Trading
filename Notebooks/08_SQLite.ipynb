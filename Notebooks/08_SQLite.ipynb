{
 "cells": [
  {
   "cell_type": "markdown",
   "id": "f114224f",
   "metadata": {},
   "source": [
    "\n",
    "# How to build an Automated Quant Database\n",
    "\n",
    "Quants analyze market data, often using internal databases at firms like Jane Street, Man Group, and Goldman Sachs. Creating your own stock price database is essential for integrating various data points—like stock prices, economic trends, and custom analytics—to enhance market research efficiency.\n",
    "\n",
    "With the rise of free market data, now is an ideal time to start storing and analyzing it. This issue will guide you on how to:\n",
    "\n",
    "- Use SQLite to build a database\n",
    "- Download stock data for free\n",
    "- Store the data in a database\n",
    "- Automate the entire process\n",
    "\n",
    "Sources:\n",
    "- https://www.sqlite.org/\n",
    "- https://docs.python.org/3/library/sqlite3.html\n",
    "- https://www.pyquantnews.com/the-pyquant-newsletter/how-to-build-an-automated-quant-database"
   ]
  },
  {
   "cell_type": "code",
   "execution_count": null,
   "id": "df87ab1d",
   "metadata": {},
   "outputs": [],
   "source": [
    "pip install yfinance"
   ]
  },
  {
   "cell_type": "code",
   "execution_count": 2,
   "id": "9ff277e1",
   "metadata": {},
   "outputs": [],
   "source": [
    "from sys import argv\n",
    "\n",
    "import pandas as pd\n",
    "import yfinance as yf\n",
    "import sqlite3"
   ]
  },
  {
   "cell_type": "code",
   "execution_count": 3,
   "id": "c67ba3c9",
   "metadata": {},
   "outputs": [],
   "source": [
    "def get_stock_data(symbol, start, end):\n",
    "    data = yf.download(symbol, start=start, end=end)\n",
    "    data.reset_index(inplace=True)\n",
    "    data.rename(columms = {\n",
    "        'Date': 'date',\n",
    "        'Open': 'open',\n",
    "        'High': 'high',\n",
    "        'Low': 'low',\n",
    "        'Close': 'close',\n",
    "        'Adj Close': 'adj_close',\n",
    "        'Volume': 'volume'\n",
    "    }, inplace=True)\n",
    "    data['symbol'] = symbol\n",
    "    return data"
   ]
  },
  {
   "cell_type": "code",
   "execution_count": 4,
   "id": "ed5ee8d8",
   "metadata": {},
   "outputs": [],
   "source": [
    "def save_data_range(symbol, start, end, con):\n",
    "    data = get_stock_data(symbol, start, end)\n",
    "    data.to_sql('stock_data', \n",
    "                con, \n",
    "                if_exists='append', \n",
    "                index=False)"
   ]
  },
  {
   "cell_type": "code",
   "execution_count": 5,
   "id": "97f0aff6",
   "metadata": {},
   "outputs": [],
   "source": [
    "def save_last_trading_session(symbol, con):\n",
    "    today = pd.Timestamp.today().normalize()\n",
    "    data = get_stock_data(symbol, today, today)\n",
    "    if not data.empty:\n",
    "        data.to_sql('stock_data', \n",
    "                    con, \n",
    "                    if_exists='append', \n",
    "                    index=False)"
   ]
  },
  {
   "cell_type": "code",
   "execution_count": null,
   "id": "50f48003",
   "metadata": {},
   "outputs": [],
   "source": [
    "def retrieve_stockdata(symbol, start_date, end_date, con):\n",
    "    query = f\"\"\"\n",
    "    SELECT * FROM stock_data \n",
    "    WHERE symbol = '{symbol}' \n",
    "    AND date BETWEEN '{start_date}' AND '{end_date}'\n",
    "    \"\"\"\n",
    "    return pd.read_sql_query(query, con)"
   ]
  },
  {
   "cell_type": "code",
   "execution_count": null,
   "id": "70dee07d",
   "metadata": {},
   "outputs": [],
   "source": [
    "# Main Execution block\n",
    "if __name__ == '__main__':\n",
    "    con = sqlite3.connect(\"08_market_data.sqlite\")\n",
    "\n",
    "    # User input\n",
    "    symbol = input(\"Enter stock symbol: \").strip().upper()\n",
    "    start_date = input(\"Enter start date (YYYY-MM-DD): \").strip()\n",
    "    end_date = input(\"Enter end date (YYYY-MM-DD): \").strip()\n",
    "\n",
    "    # Save data range\n",
    "    save_data_range(symbol, start_date, end_date, con)\n",
    "    print(f\"Data for {symbol} from {start_date} to {end_date} saved to database.\")\n",
    "\n",
    "    # Save last trading session data\n",
    "    save_last_trading_session(symbol, con)\n",
    "    print(f\"Last trading session data for {symbol} saved to database.\")\n",
    "\n",
    "    # Retrieve and display data\n",
    "    query = f\"SELECT * FROM stock_data WHERE symbol='{symbol}'\"\n",
    "    df_stock = pd.read_sql_query(query, con)\n",
    "\n",
    "    # Close the connection\n",
    "    con.close()\n",
    "\n",
    "    # Display the data\n",
    "    print(\"\\nStock Data:\")\n",
    "    print(df_stock.head())"
   ]
  }
 ],
 "metadata": {
  "kernelspec": {
   "display_name": "Python 3",
   "language": "python",
   "name": "python3"
  },
  "language_info": {
   "codemirror_mode": {
    "name": "ipython",
    "version": 3
   },
   "file_extension": ".py",
   "mimetype": "text/x-python",
   "name": "python",
   "nbconvert_exporter": "python",
   "pygments_lexer": "ipython3",
   "version": "3.13.2"
  }
 },
 "nbformat": 4,
 "nbformat_minor": 5
}
