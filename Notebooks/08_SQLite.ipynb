{
 "cells": [
  {
   "cell_type": "markdown",
   "id": "f114224f",
   "metadata": {},
   "source": [
    "\n",
    "# How to build an Automated Quant Database\n",
    "\n",
    "Quants analyze market data, often using internal databases at firms like Jane Street, Man Group, and Goldman Sachs. Creating your own stock price database is essential for integrating various data points—like stock prices, economic trends, and custom analytics—to enhance market research efficiency.\n",
    "\n",
    "With the rise of free market data, now is an ideal time to start storing and analyzing it. This issue will guide you on how to:\n",
    "\n",
    "- Use SQLite to build a database\n",
    "- Download stock data for free\n",
    "- Store the data in a database\n",
    "- Automate the entire process\n",
    "\n",
    "Sources:\n",
    "- https://www.sqlite.org/\n",
    "- https://docs.python.org/3/library/sqlite3.html\n",
    "- https://www.pyquantnews.com/the-pyquant-newsletter/how-to-build-an-automated-quant-database"
   ]
  },
  {
   "cell_type": "code",
   "execution_count": 5,
   "id": "df87ab1d",
   "metadata": {},
   "outputs": [
    {
     "name": "stdout",
     "output_type": "stream",
     "text": [
      "Requirement already satisfied: yfinance in c:\\users\\santi\\appdata\\local\\programs\\python\\python313\\lib\\site-packages (0.2.54)\n",
      "Requirement already satisfied: pandas>=1.3.0 in c:\\users\\santi\\appdata\\local\\programs\\python\\python313\\lib\\site-packages (from yfinance) (2.2.3)\n",
      "Requirement already satisfied: numpy>=1.16.5 in c:\\users\\santi\\appdata\\local\\programs\\python\\python313\\lib\\site-packages (from yfinance) (2.2.3)\n",
      "Requirement already satisfied: requests>=2.31 in c:\\users\\santi\\appdata\\local\\programs\\python\\python313\\lib\\site-packages (from yfinance) (2.32.3)\n",
      "Requirement already satisfied: multitasking>=0.0.7 in c:\\users\\santi\\appdata\\local\\programs\\python\\python313\\lib\\site-packages (from yfinance) (0.0.11)\n",
      "Requirement already satisfied: platformdirs>=2.0.0 in c:\\users\\santi\\appdata\\roaming\\python\\python313\\site-packages (from yfinance) (4.3.6)\n",
      "Requirement already satisfied: pytz>=2022.5 in c:\\users\\santi\\appdata\\local\\programs\\python\\python313\\lib\\site-packages (from yfinance) (2025.1)\n",
      "Requirement already satisfied: frozendict>=2.3.4 in c:\\users\\santi\\appdata\\local\\programs\\python\\python313\\lib\\site-packages (from yfinance) (2.4.6)\n",
      "Requirement already satisfied: peewee>=3.16.2 in c:\\users\\santi\\appdata\\local\\programs\\python\\python313\\lib\\site-packages (from yfinance) (3.17.9)\n",
      "Requirement already satisfied: beautifulsoup4>=4.11.1 in c:\\users\\santi\\appdata\\local\\programs\\python\\python313\\lib\\site-packages (from yfinance) (4.13.3)\n",
      "Requirement already satisfied: soupsieve>1.2 in c:\\users\\santi\\appdata\\local\\programs\\python\\python313\\lib\\site-packages (from beautifulsoup4>=4.11.1->yfinance) (2.6)\n",
      "Requirement already satisfied: typing-extensions>=4.0.0 in c:\\users\\santi\\appdata\\local\\programs\\python\\python313\\lib\\site-packages (from beautifulsoup4>=4.11.1->yfinance) (4.12.2)\n",
      "Requirement already satisfied: python-dateutil>=2.8.2 in c:\\users\\santi\\appdata\\roaming\\python\\python313\\site-packages (from pandas>=1.3.0->yfinance) (2.9.0.post0)\n",
      "Requirement already satisfied: tzdata>=2022.7 in c:\\users\\santi\\appdata\\local\\programs\\python\\python313\\lib\\site-packages (from pandas>=1.3.0->yfinance) (2025.1)\n",
      "Requirement already satisfied: charset-normalizer<4,>=2 in c:\\users\\santi\\appdata\\local\\programs\\python\\python313\\lib\\site-packages (from requests>=2.31->yfinance) (3.4.1)\n",
      "Requirement already satisfied: idna<4,>=2.5 in c:\\users\\santi\\appdata\\local\\programs\\python\\python313\\lib\\site-packages (from requests>=2.31->yfinance) (3.10)\n",
      "Requirement already satisfied: urllib3<3,>=1.21.1 in c:\\users\\santi\\appdata\\local\\programs\\python\\python313\\lib\\site-packages (from requests>=2.31->yfinance) (2.3.0)\n",
      "Requirement already satisfied: certifi>=2017.4.17 in c:\\users\\santi\\appdata\\local\\programs\\python\\python313\\lib\\site-packages (from requests>=2.31->yfinance) (2025.1.31)\n",
      "Requirement already satisfied: six>=1.5 in c:\\users\\santi\\appdata\\roaming\\python\\python313\\site-packages (from python-dateutil>=2.8.2->pandas>=1.3.0->yfinance) (1.17.0)\n",
      "Note: you may need to restart the kernel to use updated packages.\n"
     ]
    },
    {
     "name": "stderr",
     "output_type": "stream",
     "text": [
      "\n",
      "[notice] A new release of pip is available: 24.3.1 -> 25.0.1\n",
      "[notice] To update, run: python.exe -m pip install --upgrade pip\n"
     ]
    }
   ],
   "source": [
    "pip install yfinance"
   ]
  },
  {
   "cell_type": "code",
   "execution_count": 6,
   "id": "9ff277e1",
   "metadata": {},
   "outputs": [],
   "source": [
    "from sys import argv\n",
    "\n",
    "import pandas as pd\n",
    "import yfinance as yf\n",
    "import sqlite3"
   ]
  },
  {
   "cell_type": "code",
   "execution_count": 7,
   "id": "c67ba3c9",
   "metadata": {},
   "outputs": [],
   "source": [
    "def get_stock_data(symbol, start, end):\n",
    "    data = yf.download(symbol, start=start, end=end)\n",
    "    data.reset_index(inplace=True)\n",
    "    data.rename(columms = {\n",
    "        'Date': 'date',\n",
    "        'Open': 'open',\n",
    "        'High': 'high',\n",
    "        'Low': 'low',\n",
    "        'Close': 'close',\n",
    "        'Adj Close': 'adj_close',\n",
    "        'Volume': 'volume'\n",
    "    }, inplace=True)\n",
    "    data['symbol'] = symbol\n",
    "    return data"
   ]
  },
  {
   "cell_type": "code",
   "execution_count": 8,
   "id": "ed5ee8d8",
   "metadata": {},
   "outputs": [],
   "source": [
    "def save_data_range(symbol, start, end, con):\n",
    "    data = get_stock_data(symbol, start, end)\n",
    "    data.to_sql('stock_data', \n",
    "                con, \n",
    "                if_exists='append', \n",
    "                index=False)"
   ]
  },
  {
   "cell_type": "code",
   "execution_count": 9,
   "id": "97f0aff6",
   "metadata": {},
   "outputs": [],
   "source": [
    "def save_last_trading_session(symbol, con):\n",
    "    today = pd.Timestamp.today().normalize()\n",
    "    data = get_stock_data(symbol, today, today)\n",
    "    if not data.empty:\n",
    "        data.to_sql('stock_data', \n",
    "                    con, \n",
    "                    if_exists='append', \n",
    "                    index=False)"
   ]
  },
  {
   "cell_type": "code",
   "execution_count": 10,
   "id": "70dee07d",
   "metadata": {},
   "outputs": [
    {
     "name": "stdout",
     "output_type": "stream",
     "text": [
      "Invalid command. Use 'bulk' or 'last'.\n"
     ]
    }
   ],
   "source": [
    "if __name__ == '__main__':\n",
    "    con = sqlite3.connect(\"08_market_data.sqlite\")\n",
    "\n",
    "    if argv[1] == \"bulk\":\n",
    "        symbol = argv[2]\n",
    "        start = argv[3]\n",
    "        end = argv[4]\n",
    "        save_data_range(symbol, start, end, con)\n",
    "        print(f\"Data for {symbol} from {start} to {end} saved to database.\")\n",
    "    elif argv[1] == \"last\":\n",
    "        symbol = argv[2]\n",
    "        save_last_trading_session(symbol, con)\n",
    "        print(f\"Last trading session data for {symbol} saved to database.\")\n",
    "    else:\n",
    "        print(\"Invalid command. Use 'bulk' or 'last'.\")"
   ]
  }
 ],
 "metadata": {
  "kernelspec": {
   "display_name": "Python 3",
   "language": "python",
   "name": "python3"
  },
  "language_info": {
   "codemirror_mode": {
    "name": "ipython",
    "version": 3
   },
   "file_extension": ".py",
   "mimetype": "text/x-python",
   "name": "python",
   "nbconvert_exporter": "python",
   "pygments_lexer": "ipython3",
   "version": "3.13.2"
  }
 },
 "nbformat": 4,
 "nbformat_minor": 5
}
