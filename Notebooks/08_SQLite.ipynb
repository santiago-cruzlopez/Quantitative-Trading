{
 "cells": [
  {
   "cell_type": "markdown",
   "id": "f114224f",
   "metadata": {},
   "source": [
    "\n",
    "# How to build an Automated Quant Database\n",
    "\n",
    "Quants analyze market data, often using internal databases at firms like Jane Street, Man Group, and Goldman Sachs. Creating your own stock price database is essential for integrating various data points—like stock prices, economic trends, and custom analytics—to enhance market research efficiency.\n",
    "\n",
    "With the rise of free market data, now is an ideal time to start storing and analyzing it. This issue will guide you on how to:\n",
    "\n",
    "- Use SQLite to build a database\n",
    "- Download stock data for free\n",
    "- Store the data in a database\n",
    "- Automate the entire process\n",
    "\n",
    "Sources:\n",
    "- https://www.sqlite.org/\n",
    "- https://docs.python.org/3/library/sqlite3.html\n",
    "- https://www.pyquantnews.com/the-pyquant-newsletter/how-to-build-an-automated-quant-database"
   ]
  },
  {
   "cell_type": "code",
   "execution_count": 28,
   "id": "9ff277e1",
   "metadata": {},
   "outputs": [],
   "source": [
    "import pandas as pd\n",
    "import yfinance as yf\n",
    "import sqlite3"
   ]
  },
  {
   "cell_type": "code",
   "execution_count": 23,
   "id": "c67ba3c9",
   "metadata": {},
   "outputs": [],
   "source": [
    "def get_stock_data(symbol, start, end):\n",
    "    data = yf.download(symbol, start=start, end=end)\n",
    "    data.reset_index(inplace=True)\n",
    "    data.rename(columns={\n",
    "        'Date': 'date',\n",
    "        'Open': 'open',\n",
    "        'High': 'high',\n",
    "        'Low': 'low',\n",
    "        'Close': 'close',\n",
    "        'Adj Close': 'adj_close',\n",
    "        'Volume': 'volume'\n",
    "    }, inplace=True)\n",
    "    data['symbol'] = symbol\n",
    "    return data"
   ]
  },
  {
   "cell_type": "code",
   "execution_count": 29,
   "id": "ed5ee8d8",
   "metadata": {},
   "outputs": [],
   "source": [
    "def save_data_range(symbol, start, end, con):\n",
    "    try:\n",
    "        data = get_stock_data(symbol, start, end)\n",
    "        if isinstance(data,pd.DataFrame) and not data.empty:\n",
    "            data.to_sql('stock_data', con, if_exists='append', index=False)\n",
    "            print(f\"Data for {symbol} from {start} to {end} saved successfully.\")\n",
    "        else:\n",
    "            print(f\"No data found for {symbol} from {start} to {end}.\")\n",
    "    except Exception as e:\n",
    "        print(f\"Error saving data for {symbol}: {e}\")"
   ]
  },
  {
   "cell_type": "code",
   "execution_count": 32,
   "id": "b5b9d74e",
   "metadata": {},
   "outputs": [],
   "source": [
    "def retrieve_stock_data(symbol, start_date, end_date, con):\n",
    "    \"\"\"Retrieve stock data from the database within a date range.\"\"\"\n",
    "    query = f\"\"\"\n",
    "    SELECT * FROM stock_data\n",
    "    WHERE symbol = '{symbol}' AND date BETWEEN '{start_date}' AND '{end_date}'\n",
    "    \"\"\"\n",
    "    return pd.read_sql_query(query, con)"
   ]
  },
  {
   "cell_type": "code",
   "execution_count": 33,
   "id": "70dee07d",
   "metadata": {},
   "outputs": [
    {
     "name": "stderr",
     "output_type": "stream",
     "text": [
      "[*********************100%***********************]  1 of 1 completed\n"
     ]
    },
    {
     "name": "stdout",
     "output_type": "stream",
     "text": [
      "Error saving data for IBM: table stock_data has no column named ('date', '')\n",
      "Data for IBM from 2020-01-01 to 2025-04-03 saved to database.\n",
      "No data found for IBM from 2020-01-01 to 2025-04-03.\n"
     ]
    }
   ],
   "source": [
    "# Main execution block\n",
    "if __name__ == '__main__':\n",
    "    # Connect to the SQLite database\n",
    "    con = sqlite3.connect(\"08_market_data.sqlite\")\n",
    "\n",
    "    con.execute(\"DROP TABLE IF EXISTS stock_data\")\n",
    "\n",
    "    # Check if the stock_data table exists and create it if not\n",
    "    con.execute('''\n",
    "    CREATE TABLE IF NOT EXISTS stock_data (\n",
    "        date TEXT,\n",
    "        open REAL,\n",
    "        high REAL,\n",
    "        low REAL,\n",
    "        close REAL,\n",
    "        adj_close REAL,\n",
    "        volume INTEGER,\n",
    "        symbol TEXT\n",
    "    )\n",
    "    ''')\n",
    "    \n",
    "    # User input for gathering stock data\n",
    "    gather_data = input(\"Do you want to gather stock data? (yes/no): \").strip().lower()\n",
    "    if gather_data == 'yes':\n",
    "        symbol = input(\"Enter stock symbol: \").strip().upper()\n",
    "        start_date = input(\"Enter start date (YYYY-MM-DD): \").strip()\n",
    "        end_date = input(\"Enter end date (YYYY-MM-DD): \").strip()\n",
    "\n",
    "        # Save the stock data for the specified range\n",
    "        save_data_range(symbol, start_date, end_date, con)\n",
    "        print(f\"Data for {symbol} from {start_date} to {end_date} saved to database.\")\n",
    "    \n",
    "    # User input for retrieving stock data\n",
    "    retrieve_data = input(\"Do you want to retrieve stock data? (yes/no): \").strip().lower()\n",
    "    if retrieve_data == 'yes':\n",
    "        symbol = input(\"Enter stock symbol: \").strip().upper()\n",
    "        start_date = input(\"Enter start date (YYYY-MM-DD): \").strip()\n",
    "        end_date = input(\"Enter end date (YYYY-MM-DD): \").strip()\n",
    "\n",
    "        # Retrieve the stock data for the specified range\n",
    "        df_stock = retrieve_stock_data(symbol, start_date, end_date, con)\n",
    "\n",
    "        # Display the retrieved data\n",
    "        if not df_stock.empty:\n",
    "            print(f\"Retrieved data for {symbol} from {start_date} to {end_date}:\")\n",
    "            print(df_stock)\n",
    "        else:\n",
    "            print(f\"No data found for {symbol} from {start_date} to {end_date}.\")\n",
    "    \n",
    "    # Close the database connection\n",
    "    con.close()"
   ]
  }
 ],
 "metadata": {
  "kernelspec": {
   "display_name": "Python 3",
   "language": "python",
   "name": "python3"
  },
  "language_info": {
   "codemirror_mode": {
    "name": "ipython",
    "version": 3
   },
   "file_extension": ".py",
   "mimetype": "text/x-python",
   "name": "python",
   "nbconvert_exporter": "python",
   "pygments_lexer": "ipython3",
   "version": "3.13.2"
  }
 },
 "nbformat": 4,
 "nbformat_minor": 5
}
