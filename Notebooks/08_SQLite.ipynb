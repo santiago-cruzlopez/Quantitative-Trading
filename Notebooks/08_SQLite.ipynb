{
 "cells": [
  {
   "cell_type": "markdown",
   "id": "f114224f",
   "metadata": {},
   "source": [
    "https://www.pyquantnews.com/the-pyquant-newsletter/how-to-build-an-automated-quant-database"
   ]
  },
  {
   "cell_type": "code",
   "execution_count": null,
   "id": "df87ab1d",
   "metadata": {
    "vscode": {
     "languageId": "plaintext"
    }
   },
   "outputs": [],
   "source": [
    "pip install yfinance"
   ]
  },
  {
   "cell_type": "code",
   "execution_count": null,
   "id": "9ff277e1",
   "metadata": {
    "vscode": {
     "languageId": "plaintext"
    }
   },
   "outputs": [],
   "source": [
    "from sys import argv\n",
    "\n",
    "import pandas as pd\n",
    "import yfinance as yf\n",
    "import sqlite3"
   ]
  }
 ],
 "metadata": {
  "language_info": {
   "name": "python"
  }
 },
 "nbformat": 4,
 "nbformat_minor": 5
}
